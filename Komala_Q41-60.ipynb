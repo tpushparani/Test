{
 "cells": [
  {
   "cell_type": "code",
   "execution_count": 1,
   "metadata": {},
   "outputs": [
    {
     "name": "stdout",
     "output_type": "stream",
     "text": [
      "Requirement already satisfied: pandas in c:\\users\\sri\\anaconda3\\lib\\site-packages (1.1.3)\n",
      "Requirement already satisfied: python-dateutil>=2.7.3 in c:\\users\\sri\\anaconda3\\lib\\site-packages (from pandas) (2.8.1)\n",
      "Requirement already satisfied: numpy>=1.15.4 in c:\\users\\sri\\anaconda3\\lib\\site-packages (from pandas) (1.19.2)\n",
      "Requirement already satisfied: pytz>=2017.2 in c:\\users\\sri\\anaconda3\\lib\\site-packages (from pandas) (2020.1)\n",
      "Requirement already satisfied: six>=1.5 in c:\\users\\sri\\anaconda3\\lib\\site-packages (from python-dateutil>=2.7.3->pandas) (1.15.0)\n",
      "Note: you may need to restart the kernel to use updated packages.\n"
     ]
    }
   ],
   "source": [
    "pip install pandas\n"
   ]
  },
  {
   "cell_type": "code",
   "execution_count": 2,
   "metadata": {},
   "outputs": [],
   "source": [
    "import numpy as np\n",
    "import pandas as pd\n",
    "import matplotlib.pyplot as plt\n",
    "import seaborn as sns\n",
    "from datetime import datetime as dt, date"
   ]
  },
  {
   "cell_type": "code",
   "execution_count": 28,
   "metadata": {},
   "outputs": [
    {
     "name": "stdout",
     "output_type": "stream",
     "text": [
      "     PatientID FirstName   LastName             DateOfBirth  Gender  \\\n",
      "282        283    Lauren     Gaskal 1962-05-08 01:54:00.111  Female   \n",
      "322        323    Lauren      Foort 1960-06-23 20:07:53.045  Female   \n",
      "369        370    Zulauf  Ellingham 1982-12-17 16:27:56.391  Female   \n",
      "382        383    Zulauf        LLC 1969-03-16 07:48:49.338  Female   \n",
      "454        455    Zulauf      Alvar 1961-10-02 08:24:17.334  Female   \n",
      "463        464    Zulauf     Manske 1965-06-22 02:49:28.667  Female   \n",
      "818        819    Zulauf   Bitcheno 1967-04-02 07:17:53.635  Female   \n",
      "830        831    Zulauf  O'Shavlan 1970-05-17 08:09:28.988  Female   \n",
      "850        851     Lemmy    Klausen 1973-06-18 06:19:43.475  Female   \n",
      "906        907  Jerrilyn    Klausen 1979-09-04 13:05:57.870    Male   \n",
      "910        911    Zulauf     Orbine 1973-06-26 03:13:50.449    Male   \n",
      "\n",
      "                       Race Language  \n",
      "282  Black/African-American  English  \n",
      "322                   White  English  \n",
      "369                   White  English  \n",
      "382                   White  English  \n",
      "454                   White  English  \n",
      "463                   White  English  \n",
      "818                   White  English  \n",
      "830                   White  English  \n",
      "850                   White  English  \n",
      "906  Black/African-American  English  \n",
      "910  Black/African-American  English  \n"
     ]
    }
   ],
   "source": [
    "#QNO:43 Details of the patients whose firstname or lastname contains string \"lau\" , should be case insensitive.\n",
    "hospital_data = pd.read_excel('HospitalDatabase.xlsx','Patients')\n",
    "\n",
    "Patients= hospital_data[hospital_data['FirstName'].str.contains('lau',case=False) | hospital_data['LastName'].str.contains('lau',case=False)]\n",
    "print(Patients)"
   ]
  },
  {
   "cell_type": "code",
   "execution_count": 10,
   "metadata": {},
   "outputs": [
    {
     "name": "stdout",
     "output_type": "stream",
     "text": [
      "Number of canceled count is : 60\n"
     ]
    }
   ],
   "source": [
    "# QNO:46 Count of canceled status.\n",
    "\n",
    "hospital_data = pd.read_excel('HospitalDatabase.xlsx','AmbulatoryVisits')\n",
    "CanceledCount=len(hospital_data[hospital_data['VisitStatus']=='Canceled'])\n",
    "print(\"Number of canceled count is :\", CanceledCount)"
   ]
  },
  {
   "cell_type": "code",
   "execution_count": 16,
   "metadata": {
    "scrolled": true
   },
   "outputs": [
    {
     "name": "stdout",
     "output_type": "stream",
     "text": [
      "      PatientID  FirstName  LastName             DateOfBirth  Gender  \\\n",
      "4             3    Devlin    Michael 1976-04-15 02:52:09.762    Male   \n",
      "18            7    Skipton       Bar 1975-11-25 22:23:53.525    Male   \n",
      "20            8  Alexandra     Green 1967-06-16 16:37:21.694    Male   \n",
      "24           10     Granny       Man 1969-09-15 11:20:42.218    Male   \n",
      "27           12     Zonnya        Ab 1963-05-23 10:04:33.074    Male   \n",
      "...         ...        ...       ...                     ...     ...   \n",
      "1166        913       Alta   McGrath 1973-02-09 04:11:58.220  Female   \n",
      "1168        915   Jerrilyn     Dyson 1978-01-18 02:41:55.178  Female   \n",
      "1169        916     Kaylil   Baldack 1966-11-17 14:10:35.224  Female   \n",
      "1170        917     Velvet  Bushnell 1965-11-13 07:26:58.889  Female   \n",
      "1171        918       Kiri     Allom 1960-09-05 13:21:10.008  Female   \n",
      "\n",
      "                        Race Language  EDVisitID               VisitDate  \\\n",
      "4                      White  English         55 2020-01-01 15:01:29.846   \n",
      "18                     White  English         98 2020-01-02 01:33:47.283   \n",
      "20                     White  English          8 2020-01-01 01:15:35.564   \n",
      "24                     White  English         10 2020-01-01 02:02:03.160   \n",
      "27                     White  Spanish         12 2020-01-01 02:45:40.302   \n",
      "...                      ...      ...        ...                     ...   \n",
      "1166  Black/African-American  English       1167 2020-01-15 05:09:22.987   \n",
      "1168  Black/African-American  English       1169 2020-01-15 05:30:02.889   \n",
      "1169  Black/African-American  English       1170 2020-01-15 05:57:29.834   \n",
      "1170  Black/African-American  English       1171 2020-01-15 06:27:24.353   \n",
      "1171  Black/African-American  English       1172 2020-01-15 06:51:43.655   \n",
      "\n",
      "             EDDischargeTime  Acuity ReasonForVisit EDDisposition  \n",
      "4    2020-01-01 23:11:53.864       3       Migraine      Admitted  \n",
      "18   2020-01-02 11:36:20.129       2       Migraine    Discharged  \n",
      "20   2020-01-02 00:07:24.636       2       Migraine    Discharged  \n",
      "24   2020-01-01 08:28:27.128       2       Migraine    Discharged  \n",
      "27   2020-01-02 02:00:00.517       2       Migraine      Admitted  \n",
      "...                      ...     ...            ...           ...  \n",
      "1166 2020-01-16 03:57:13.244       4      Pneumonia      Admitted  \n",
      "1168 2020-01-15 18:47:12.044       3       Migraine      Admitted  \n",
      "1169 2020-01-15 06:03:50.631       4      Pneumonia      Admitted  \n",
      "1170 2020-01-15 10:16:03.795       2      Pneumonia      Admitted  \n",
      "1171 2020-01-15 16:27:42.410       5      Pneumonia      Admitted  \n",
      "\n",
      "[215 rows x 13 columns]\n"
     ]
    }
   ],
   "source": [
    "# QNO:50 Display patient details where \"ReasonForVisit\" is either 'Migraine' or 'Pneumonia' and Acuity is 2 or more.\n",
    "\n",
    "hospital_data = pd.read_excel('HospitalDatabase.xlsx','EDVisits')\n",
    "hospital_data1 = pd.read_excel('HospitalDatabase.xlsx','Patients')\n",
    "\n",
    "Merge_data=pd.merge(hospital_data1,hospital_data,on='PatientID')\n",
    "\n",
    "Patients_Details= Merge_data[(Merge_data['ReasonForVisit'].isin(['Migraine','Pneumonia']))& (Merge_data['Acuity']>=2)]\n",
    "print (Patients_Details)"
   ]
  },
  {
   "cell_type": "code",
   "execution_count": null,
   "metadata": {},
   "outputs": [],
   "source": [
    "hospital_data = pd.read_excel('HospitalDatabase.xlsx','AmbulatoryVisits')\n",
    "hospital_data1 = pd.read_excel('HospitalDatabase.xlsx','Patients')\n",
    "Merge_data=pd.merge(hospital_data1,hospital_data,on='PatientID')\n"
   ]
  }
 ],
 "metadata": {
  "kernelspec": {
   "display_name": "Python 3",
   "language": "python",
   "name": "python3"
  },
  "language_info": {
   "codemirror_mode": {
    "name": "ipython",
    "version": 3
   },
   "file_extension": ".py",
   "mimetype": "text/x-python",
   "name": "python",
   "nbconvert_exporter": "python",
   "pygments_lexer": "ipython3",
   "version": "3.8.5"
  }
 },
 "nbformat": 4,
 "nbformat_minor": 4
}
