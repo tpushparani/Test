{
 "cells": [
  {
   "cell_type": "code",
   "execution_count": 8,
   "metadata": {},
   "outputs": [
    {
     "name": "stdout",
     "output_type": "stream",
     "text": [
      "Requirement already satisfied: pandas in c:\\users\\sri\\anaconda3\\lib\\site-packages (1.1.3)\n",
      "Requirement already satisfied: python-dateutil>=2.7.3 in c:\\users\\sri\\anaconda3\\lib\\site-packages (from pandas) (2.8.1)\n",
      "Requirement already satisfied: pytz>=2017.2 in c:\\users\\sri\\anaconda3\\lib\\site-packages (from pandas) (2020.1)\n",
      "Requirement already satisfied: numpy>=1.15.4 in c:\\users\\sri\\anaconda3\\lib\\site-packages (from pandas) (1.19.2)\n",
      "Requirement already satisfied: six>=1.5 in c:\\users\\sri\\anaconda3\\lib\\site-packages (from python-dateutil>=2.7.3->pandas) (1.15.0)\n",
      "Note: you may need to restart the kernel to use updated packages.\n"
     ]
    }
   ],
   "source": [
    "pip install pandas\n"
   ]
  },
  {
   "cell_type": "code",
   "execution_count": 9,
   "metadata": {},
   "outputs": [],
   "source": [
    " import numpy as np\n",
    "import pandas as pd\n",
    "import matplotlib.pyplot as plt\n",
    "import seaborn as sns\n",
    "from datetime import datetime as dt, date"
   ]
  },
  {
   "cell_type": "markdown",
   "metadata": {},
   "source": [
    "# QNO:41 Find the age prone to get stroke."
   ]
  },
  {
   "cell_type": "code",
   "execution_count": 17,
   "metadata": {},
   "outputs": [
    {
     "name": "stdout",
     "output_type": "stream",
     "text": [
      "Average age prone to get Stroke is: \n",
      "49.85294117647059\n"
     ]
    }
   ],
   "source": [
    "#Load Patients from excel sheet\n",
    "Patient_data = pd.read_excel('HospitalDatabase.xlsx','Patients')\n",
    "\n",
    "#Load Patients from excel sheet\n",
    "ReadmissionRegistry_data = pd.read_excel('HospitalDatabase.xlsx','ReAdmissionRegistry')\n",
    "\n",
    "#merge the two dataframes\n",
    "merged_data=pd.merge(Patient_data,ReadmissionRegistry_data, on='PatientID' )\n",
    "\n",
    "#compute age of each patient in merged dataframe\n",
    "merged_data['Age']=(pd.Timestamp.now()-pd.to_datetime(merged_data['DateOfBirth'])).astype('<m8[Y]')\n",
    "\n",
    "stroke_data=merged_data[merged_data['PrimaryDiagnosis']=='Stroke']\n",
    "\n",
    "\n",
    "average_age=stroke_data['Age'].mean()\n",
    "print(\"Average age prone to get Stroke is: \")\n",
    "print (average_age)"
   ]
  },
  {
   "cell_type": "markdown",
   "metadata": {},
   "source": [
    "# QNO:43 Details of the patients whose firstname or lastname contains string \"lau\" , should be case insensitive."
   ]
  },
  {
   "cell_type": "code",
   "execution_count": 28,
   "metadata": {},
   "outputs": [
    {
     "name": "stdout",
     "output_type": "stream",
     "text": [
      "     PatientID FirstName   LastName             DateOfBirth  Gender  \\\n",
      "282        283    Lauren     Gaskal 1962-05-08 01:54:00.111  Female   \n",
      "322        323    Lauren      Foort 1960-06-23 20:07:53.045  Female   \n",
      "369        370    Zulauf  Ellingham 1982-12-17 16:27:56.391  Female   \n",
      "382        383    Zulauf        LLC 1969-03-16 07:48:49.338  Female   \n",
      "454        455    Zulauf      Alvar 1961-10-02 08:24:17.334  Female   \n",
      "463        464    Zulauf     Manske 1965-06-22 02:49:28.667  Female   \n",
      "818        819    Zulauf   Bitcheno 1967-04-02 07:17:53.635  Female   \n",
      "830        831    Zulauf  O'Shavlan 1970-05-17 08:09:28.988  Female   \n",
      "850        851     Lemmy    Klausen 1973-06-18 06:19:43.475  Female   \n",
      "906        907  Jerrilyn    Klausen 1979-09-04 13:05:57.870    Male   \n",
      "910        911    Zulauf     Orbine 1973-06-26 03:13:50.449    Male   \n",
      "\n",
      "                       Race Language  \n",
      "282  Black/African-American  English  \n",
      "322                   White  English  \n",
      "369                   White  English  \n",
      "382                   White  English  \n",
      "454                   White  English  \n",
      "463                   White  English  \n",
      "818                   White  English  \n",
      "830                   White  English  \n",
      "850                   White  English  \n",
      "906  Black/African-American  English  \n",
      "910  Black/African-American  English  \n"
     ]
    }
   ],
   "source": [
    "#QNO:43 Details of the patients whose firstname or lastname contains string \"lau\" , should be case insensitive.\n",
    "hospital_data = pd.read_excel('HospitalDatabase.xlsx','Patients')\n",
    "\n",
    "Patients= hospital_data[hospital_data['FirstName'].str.contains('lau',case=False) | hospital_data['LastName'].str.contains('lau',case=False)]\n",
    "print(Patients)"
   ]
  },
  {
   "cell_type": "markdown",
   "metadata": {},
   "source": [
    "# QNO:46 Count of canceled status.\n"
   ]
  },
  {
   "cell_type": "code",
   "execution_count": 10,
   "metadata": {},
   "outputs": [
    {
     "name": "stdout",
     "output_type": "stream",
     "text": [
      "Number of canceled count is : 60\n"
     ]
    }
   ],
   "source": [
    "# QNO:46 Count of canceled status.\n",
    "\n",
    "hospital_data = pd.read_excel('HospitalDatabase.xlsx','AmbulatoryVisits')\n",
    "CanceledCount=len(hospital_data[hospital_data['VisitStatus']=='Canceled'])\n",
    "print(\"Number of canceled count is :\", CanceledCount)"
   ]
  },
  {
   "cell_type": "markdown",
   "metadata": {},
   "source": [
    "# QNO:47 Display the patient details with maximum pulse pressure."
   ]
  },
  {
   "cell_type": "code",
   "execution_count": 10,
   "metadata": {},
   "outputs": [
    {
     "name": "stdout",
     "output_type": "stream",
     "text": [
      "     PatientID FirstName LastName Gender  VisitType      Pulse\n",
      "471        812    Daniel    Group   Male  Follow Up  99.986463\n"
     ]
    }
   ],
   "source": [
    "hospital_data = pd.read_excel('HospitalDatabase.xlsx','AmbulatoryVisits')\n",
    "hospital_data1 = pd.read_excel('HospitalDatabase.xlsx','Patients')\n",
    "Merge_data=pd.merge(hospital_data1,hospital_data,left_on='PatientID',right_on='PatientMRN')\n",
    "\n",
    "#find max pulse\n",
    "Max_pulse= Merge_data['Pulse'].max()\n",
    "\n",
    "#filter data to get only max Pulse patient details\n",
    "Max_Pulse_patients=Merge_data[Merge_data['Pulse']==Max_pulse]\n",
    "\n",
    "#Display Columns\n",
    "Display_Columns=['PatientID','FirstName','LastName','Gender','VisitType','Pulse']\n",
    "\n",
    "#print patients with Max Pulse\n",
    "print(Max_Pulse_patients[Display_Columns])\n"
   ]
  },
  {
   "cell_type": "markdown",
   "metadata": {},
   "source": [
    "# QNO:50 Display patient details where \"ReasonForVisit\" is either 'Migraine' or 'Pneumonia' and Acuity is 2 or more."
   ]
  },
  {
   "cell_type": "code",
   "execution_count": 16,
   "metadata": {
    "scrolled": false
   },
   "outputs": [
    {
     "name": "stdout",
     "output_type": "stream",
     "text": [
      "      PatientID  FirstName  LastName             DateOfBirth  Gender  \\\n",
      "4             3    Devlin    Michael 1976-04-15 02:52:09.762    Male   \n",
      "18            7    Skipton       Bar 1975-11-25 22:23:53.525    Male   \n",
      "20            8  Alexandra     Green 1967-06-16 16:37:21.694    Male   \n",
      "24           10     Granny       Man 1969-09-15 11:20:42.218    Male   \n",
      "27           12     Zonnya        Ab 1963-05-23 10:04:33.074    Male   \n",
      "...         ...        ...       ...                     ...     ...   \n",
      "1166        913       Alta   McGrath 1973-02-09 04:11:58.220  Female   \n",
      "1168        915   Jerrilyn     Dyson 1978-01-18 02:41:55.178  Female   \n",
      "1169        916     Kaylil   Baldack 1966-11-17 14:10:35.224  Female   \n",
      "1170        917     Velvet  Bushnell 1965-11-13 07:26:58.889  Female   \n",
      "1171        918       Kiri     Allom 1960-09-05 13:21:10.008  Female   \n",
      "\n",
      "                        Race Language  EDVisitID               VisitDate  \\\n",
      "4                      White  English         55 2020-01-01 15:01:29.846   \n",
      "18                     White  English         98 2020-01-02 01:33:47.283   \n",
      "20                     White  English          8 2020-01-01 01:15:35.564   \n",
      "24                     White  English         10 2020-01-01 02:02:03.160   \n",
      "27                     White  Spanish         12 2020-01-01 02:45:40.302   \n",
      "...                      ...      ...        ...                     ...   \n",
      "1166  Black/African-American  English       1167 2020-01-15 05:09:22.987   \n",
      "1168  Black/African-American  English       1169 2020-01-15 05:30:02.889   \n",
      "1169  Black/African-American  English       1170 2020-01-15 05:57:29.834   \n",
      "1170  Black/African-American  English       1171 2020-01-15 06:27:24.353   \n",
      "1171  Black/African-American  English       1172 2020-01-15 06:51:43.655   \n",
      "\n",
      "             EDDischargeTime  Acuity ReasonForVisit EDDisposition  \n",
      "4    2020-01-01 23:11:53.864       3       Migraine      Admitted  \n",
      "18   2020-01-02 11:36:20.129       2       Migraine    Discharged  \n",
      "20   2020-01-02 00:07:24.636       2       Migraine    Discharged  \n",
      "24   2020-01-01 08:28:27.128       2       Migraine    Discharged  \n",
      "27   2020-01-02 02:00:00.517       2       Migraine      Admitted  \n",
      "...                      ...     ...            ...           ...  \n",
      "1166 2020-01-16 03:57:13.244       4      Pneumonia      Admitted  \n",
      "1168 2020-01-15 18:47:12.044       3       Migraine      Admitted  \n",
      "1169 2020-01-15 06:03:50.631       4      Pneumonia      Admitted  \n",
      "1170 2020-01-15 10:16:03.795       2      Pneumonia      Admitted  \n",
      "1171 2020-01-15 16:27:42.410       5      Pneumonia      Admitted  \n",
      "\n",
      "[215 rows x 13 columns]\n"
     ]
    }
   ],
   "source": [
    "# QNO:50 Display patient details where \"ReasonForVisit\" is either 'Migraine' or 'Pneumonia' and Acuity is 2 or more.\n",
    "\n",
    "hospital_data = pd.read_excel('HospitalDatabase.xlsx','EDVisits')\n",
    "hospital_data1 = pd.read_excel('HospitalDatabase.xlsx','Patients')\n",
    "\n",
    "Merge_data=pd.merge(hospital_data1,hospital_data,on='PatientID')\n",
    "\n",
    "Patients_Details= Merge_data[(Merge_data['ReasonForVisit'].isin(['Migraine','Pneumonia']))& (Merge_data['Acuity']>=2)]\n",
    "print (Patients_Details)"
   ]
  },
  {
   "cell_type": "markdown",
   "metadata": {},
   "source": [
    "# QNO:51 Take the ReasonForVisit from user, find the number of patients admitted with that ReasonForVisit. "
   ]
  },
  {
   "cell_type": "code",
   "execution_count": 11,
   "metadata": {
    "scrolled": true
   },
   "outputs": [
    {
     "name": "stdout",
     "output_type": "stream",
     "text": [
      "Enter Reason for visit Migraine\n",
      "Number of patients admitted with 'Migraine' are 156\n"
     ]
    }
   ],
   "source": [
    "hospital_data = pd.read_excel('HospitalDatabase.xlsx','EDVisits')\n",
    "\n",
    "#user Input\n",
    "Reason_for_visit=input(\"Enter Reason for visit \")\n",
    "\n",
    "#number of patients admitted with that reason\n",
    "\n",
    "Patients_count=len(hospital_data[hospital_data['ReasonForVisit']==Reason_for_visit])\n",
    "print(f\"Number of patients admitted with '{Reason_for_visit}' are {Patients_count}\")\n"
   ]
  },
  {
   "cell_type": "markdown",
   "metadata": {},
   "source": [
    "# QNO:52 Using indexing , loc to retrieve the row with maximum BloodPressureSystolic.\n"
   ]
  },
  {
   "cell_type": "code",
   "execution_count": 44,
   "metadata": {},
   "outputs": [
    {
     "name": "stdout",
     "output_type": "stream",
     "text": [
      "Row with maximum BloodPressureSystolic.\n",
      "VisitID                                          933\n",
      "PatientMRN                                       884\n",
      "ProviderID                                        27\n",
      "DateofVisit                      2019-02-14 00:00:00\n",
      "DateScheduled             2019-01-22 19:26:49.163000\n",
      "VisitDepartmentID                                 12\n",
      "VisitType                               Telemedicine\n",
      "BloodPressureSystolic                            190\n",
      "BloodPressureDiastolic                       143.989\n",
      "Pulse                                        74.9769\n",
      "VisitStatus                                Completed\n",
      "Name: 236, dtype: object\n"
     ]
    }
   ],
   "source": [
    "#load Ambulatory dataset from HospitalDatabase \n",
    "hospital_data = pd.read_excel('HospitalDatabase.xlsx','AmbulatoryVisits')\n",
    "\n",
    "#finding the index of row with maximum BloodPressureSystolic \n",
    "\n",
    "Max_SBP_Index=hospital_data['BloodPressureSystolic'].idxmax()\n",
    "\n",
    "#using loc to retrieve the row with index found above\n",
    "\n",
    "Max_SBP=hospital_data.loc[Max_SBP_Index]\n",
    "\n",
    "print(\"Row with maximum BloodPressureSystolic.\")\n",
    "print(Max_SBP)\n",
    "\n"
   ]
  },
  {
   "cell_type": "markdown",
   "metadata": {},
   "source": [
    "# QNO :54 Retrieve the row with minimum DBP using sorting technique.\n",
    "\n"
   ]
  },
  {
   "cell_type": "code",
   "execution_count": 6,
   "metadata": {},
   "outputs": [
    {
     "name": "stdout",
     "output_type": "stream",
     "text": [
      "Row with minimum DBP \n",
      "VisitID                                          163\n",
      "PatientMRN                                       801\n",
      "ProviderID                                        11\n",
      "DateofVisit                      2019-02-08 00:00:00\n",
      "DateScheduled             2019-02-07 23:41:12.181000\n",
      "VisitDepartmentID                                  7\n",
      "VisitType                                  Follow Up\n",
      "BloodPressureSystolic                            120\n",
      "BloodPressureDiastolic                       51.6957\n",
      "Pulse                                        53.3105\n",
      "VisitStatus                                Completed\n",
      "Name: 757, dtype: object\n"
     ]
    }
   ],
   "source": [
    "#load Ambulatory dataset from HospitalDatabase \n",
    "hospital_data = pd.read_excel('HospitalDatabase.xlsx','AmbulatoryVisits')\n",
    "\n",
    "#Sort dataset by the  BloodPressureDiastolic in ascending order\n",
    "datasorted=hospital_data.sort_values('BloodPressureDiastolic')\n",
    "\n",
    "#retreive first row from the datasorted\n",
    "MinimumDBP=datasorted.iloc[0]\n",
    "\n",
    "print(\"Row with minimum DBP \")\n",
    "print(MinimumDBP)\n",
    "\n",
    "\n"
   ]
  },
  {
   "cell_type": "markdown",
   "metadata": {},
   "source": [
    "# QNO: 56 Get the list of patient ID's which are not there in ReadmissionRegistry."
   ]
  },
  {
   "cell_type": "code",
   "execution_count": 33,
   "metadata": {},
   "outputs": [
    {
     "name": "stdout",
     "output_type": "stream",
     "text": [
      "Patient id's not in readmissonregistry:\n",
      "[4, 135, 145, 189, 200, 224, 234, 374, 378, 379, 380, 381, 382, 383, 384, 385, 386, 387, 388, 389, 390, 391, 392, 393, 394, 395, 396, 397, 398, 399, 414, 501, 562, 599, 690, 691, 704, 726, 743, 744, 745, 746, 747, 748, 749, 750, 751, 752, 753, 754, 755, 756, 757, 758, 759, 760, 761, 762, 763, 764, 765, 766, 767, 768, 769, 770, 771, 772, 773, 774, 775, 776, 777, 778, 779, 780, 781, 782, 783, 784, 785, 786, 787, 788, 789, 790, 791, 792, 793, 794, 795, 796, 797, 798, 799, 800, 801, 802, 803, 804, 805, 806, 807, 808, 809, 810, 811, 812, 813, 814, 815, 816, 817, 818, 819, 820, 821, 822, 823, 824, 825, 826, 827, 828, 829, 830, 831, 832, 833, 834, 835, 836, 837, 838, 839, 840, 841, 842, 843, 844, 845, 846, 847, 848, 849, 850, 851, 852, 853, 854, 855, 856, 857, 858, 859, 860, 861, 862, 863, 864, 865, 866, 867, 868, 869, 870, 871, 872, 873, 874, 875, 876, 877, 878, 879, 880, 881, 882, 883, 884, 885, 886, 887, 888, 889, 890, 891, 892, 893, 894, 895, 896, 897, 898, 899, 900, 901, 902, 903, 904, 905, 906, 907, 908, 909, 910, 911, 912, 913, 914, 915, 916, 917, 918, 919, 920, 921, 922, 923, 924, 925, 926, 927, 928, 929, 930, 931, 932, 933, 934, 935, 936, 937, 938, 939, 940, 941, 942, 943, 944, 945]\n"
     ]
    }
   ],
   "source": [
    "#Load Patient and readmissionregistary form excel sheet\n",
    "hospital_data = pd.read_excel('HospitalDatabase.xlsx','Patients')\n",
    "Readmission_Data = pd.read_excel('HospitalDatabase.xlsx','ReAdmissionRegistry')\n",
    "\n",
    "#get list of patient id's not in readmission registry \n",
    "\n",
    "PatientsNotIn_Readmission=hospital_data[~hospital_data['PatientID'].isin(Readmission_Data['PatientID'])]['PatientID'].tolist()\n",
    "\n",
    "#print the list of patients\n",
    "print (\"Patient id's not in readmissonregistry:\")\n",
    "print(PatientsNotIn_Readmission)"
   ]
  },
  {
   "cell_type": "markdown",
   "metadata": {},
   "source": [
    "#  QNO:58 Display full name of patients who are born in 1986."
   ]
  },
  {
   "cell_type": "code",
   "execution_count": 31,
   "metadata": {
    "scrolled": true
   },
   "outputs": [
    {
     "name": "stdout",
     "output_type": "stream",
     "text": [
      "Gabriel  Joseph\n",
      "Lincoln  Brenda\n",
      "Ala Halpert\n",
      "Lolita Darci\n",
      "Fadel Bernardt\n",
      "Bentley Kippax\n",
      "Vale Olanda\n",
      "Britt Dureden\n",
      "Cristabel Chatel\n",
      "Constantia Group\n",
      "Morgan Scrowston\n",
      "Dom Baglow\n",
      "Ignazio Melling\n",
      "Homenick Rings\n",
      "Hashim Slark\n",
      "Ellie Ramsbotham\n",
      "Llewellyn Group\n",
      "Niles Shaw\n",
      "Yvette Inc\n",
      "Siouxie Group\n",
      "Carly Group\n",
      "Worth Pickering\n",
      "Arni Baldack\n",
      "Kuvalis Coupland\n",
      "Rebbecca Rollingson\n",
      "Wat Fideler\n"
     ]
    }
   ],
   "source": [
    "\n",
    "#Load Patients from excel sheet\n",
    "hospital_data = pd.read_excel('HospitalDatabase.xlsx','Patients')\n",
    "\n",
    "for index, row in hospital_data.iterrows():\n",
    "    dob_str=row['DateOfBirth'].strftime('%m/%d/%Y')\n",
    "    dtt=dt.strptime(dob_str,'%m/%d/%Y')\n",
    "    if dtt.year==1986:\n",
    "        print(row['FirstName'] + ' ' +row['LastName'])\n",
    "\n"
   ]
  },
  {
   "cell_type": "code",
   "execution_count": null,
   "metadata": {},
   "outputs": [],
   "source": []
  }
 ],
 "metadata": {
  "kernelspec": {
   "display_name": "Python 3",
   "language": "python",
   "name": "python3"
  },
  "language_info": {
   "codemirror_mode": {
    "name": "ipython",
    "version": 3
   },
   "file_extension": ".py",
   "mimetype": "text/x-python",
   "name": "python",
   "nbconvert_exporter": "python",
   "pygments_lexer": "ipython3",
   "version": "3.8.5"
  }
 },
 "nbformat": 4,
 "nbformat_minor": 4
}
