{
 "cells": [
  {
   "cell_type": "code",
   "execution_count": 2,
   "id": "bd2a159c",
   "metadata": {},
   "outputs": [
    {
     "name": "stdout",
     "output_type": "stream",
     "text": [
      "Requirement already satisfied: pandas in c:\\users\\gowth\\anaconda3\\lib\\site-packages (1.4.4)\n",
      "Requirement already satisfied: python-dateutil>=2.8.1 in c:\\users\\gowth\\anaconda3\\lib\\site-packages (from pandas) (2.8.2)\n",
      "Requirement already satisfied: pytz>=2020.1 in c:\\users\\gowth\\anaconda3\\lib\\site-packages (from pandas) (2022.1)\n",
      "Requirement already satisfied: numpy>=1.18.5 in c:\\users\\gowth\\anaconda3\\lib\\site-packages (from pandas) (1.21.5)\n",
      "Requirement already satisfied: six>=1.5 in c:\\users\\gowth\\anaconda3\\lib\\site-packages (from python-dateutil>=2.8.1->pandas) (1.16.0)\n",
      "Note: you may need to restart the kernel to use updated packages.\n"
     ]
    }
   ],
   "source": [
    "pip install pandas"
   ]
  },
  {
   "cell_type": "code",
   "execution_count": 3,
   "id": "2dd7a57d",
   "metadata": {},
   "outputs": [],
   "source": [
    "import numpy as np\n",
    "import pandas as pd\n",
    "import matplotlib.pyplot as plt\n",
    "import seaborn as sns\n",
    "from datetime import datetime as dt, date"
   ]
  },
  {
   "cell_type": "code",
   "execution_count": 4,
   "id": "07652cb7",
   "metadata": {},
   "outputs": [
    {
     "data": {
      "text/html": [
       "<div>\n",
       "<style scoped>\n",
       "    .dataframe tbody tr th:only-of-type {\n",
       "        vertical-align: middle;\n",
       "    }\n",
       "\n",
       "    .dataframe tbody tr th {\n",
       "        vertical-align: top;\n",
       "    }\n",
       "\n",
       "    .dataframe thead th {\n",
       "        text-align: right;\n",
       "    }\n",
       "</style>\n",
       "<table border=\"1\" class=\"dataframe\">\n",
       "  <thead>\n",
       "    <tr style=\"text-align: right;\">\n",
       "      <th></th>\n",
       "      <th>PatientID</th>\n",
       "      <th>FirstName</th>\n",
       "      <th>LastName</th>\n",
       "      <th>DateOfBirth</th>\n",
       "      <th>Gender</th>\n",
       "      <th>Race</th>\n",
       "      <th>Language</th>\n",
       "    </tr>\n",
       "  </thead>\n",
       "  <tbody>\n",
       "    <tr>\n",
       "      <th>940</th>\n",
       "      <td>941</td>\n",
       "      <td>Wat</td>\n",
       "      <td>Fideler</td>\n",
       "      <td>1986-05-26 00:01:19.761</td>\n",
       "      <td>Male</td>\n",
       "      <td>Black/African-American</td>\n",
       "      <td>English</td>\n",
       "    </tr>\n",
       "    <tr>\n",
       "      <th>941</th>\n",
       "      <td>942</td>\n",
       "      <td>Wandie</td>\n",
       "      <td>Baythrop</td>\n",
       "      <td>1970-06-10 21:41:03.814</td>\n",
       "      <td>Male</td>\n",
       "      <td>Black/African-American</td>\n",
       "      <td>English</td>\n",
       "    </tr>\n",
       "    <tr>\n",
       "      <th>942</th>\n",
       "      <td>943</td>\n",
       "      <td>Diahann</td>\n",
       "      <td>Smeeton</td>\n",
       "      <td>1983-01-08 21:49:27.884</td>\n",
       "      <td>Male</td>\n",
       "      <td>Black/African-American</td>\n",
       "      <td>English</td>\n",
       "    </tr>\n",
       "    <tr>\n",
       "      <th>943</th>\n",
       "      <td>944</td>\n",
       "      <td>Panchito</td>\n",
       "      <td>Sharple</td>\n",
       "      <td>1963-06-05 07:57:05.569</td>\n",
       "      <td>Male</td>\n",
       "      <td>Black/African-American</td>\n",
       "      <td>English</td>\n",
       "    </tr>\n",
       "    <tr>\n",
       "      <th>944</th>\n",
       "      <td>945</td>\n",
       "      <td>Walsh</td>\n",
       "      <td>Calvie</td>\n",
       "      <td>1972-08-06 03:40:03.454</td>\n",
       "      <td>Male</td>\n",
       "      <td>Black/African-American</td>\n",
       "      <td>English</td>\n",
       "    </tr>\n",
       "  </tbody>\n",
       "</table>\n",
       "</div>"
      ],
      "text/plain": [
       "     PatientID FirstName  LastName             DateOfBirth Gender  \\\n",
       "940        941       Wat   Fideler 1986-05-26 00:01:19.761   Male   \n",
       "941        942    Wandie  Baythrop 1970-06-10 21:41:03.814   Male   \n",
       "942        943   Diahann   Smeeton 1983-01-08 21:49:27.884   Male   \n",
       "943        944  Panchito   Sharple 1963-06-05 07:57:05.569   Male   \n",
       "944        945     Walsh    Calvie 1972-08-06 03:40:03.454   Male   \n",
       "\n",
       "                       Race Language  \n",
       "940  Black/African-American  English  \n",
       "941  Black/African-American  English  \n",
       "942  Black/African-American  English  \n",
       "943  Black/African-American  English  \n",
       "944  Black/African-American  English  "
      ]
     },
     "execution_count": 4,
     "metadata": {},
     "output_type": "execute_result"
    }
   ],
   "source": [
    "hospital_data = pd.read_excel('HospitalDatabase.xlsx')\n",
    "hospital_data.tail()"
   ]
  },
  {
   "cell_type": "markdown",
   "id": "333b648e",
   "metadata": {},
   "source": [
    "# 61.np.arange(1,31).reshape(6,5) Find the array slicing to get the elements with values 11,12,16,17."
   ]
  },
  {
   "cell_type": "code",
   "execution_count": 5,
   "id": "2f8bd653",
   "metadata": {},
   "outputs": [
    {
     "name": "stdout",
     "output_type": "stream",
     "text": [
      "[[ 1  2  3  4  5]\n",
      " [ 6  7  8  9 10]\n",
      " [11 12 13 14 15]\n",
      " [16 17 18 19 20]\n",
      " [21 22 23 24 25]\n",
      " [26 27 28 29 30]]\n"
     ]
    }
   ],
   "source": [
    "numbers = np.arange(1,31)\n",
    "numbers = numbers.reshape(6,5)\n",
    "print(numbers)"
   ]
  },
  {
   "cell_type": "code",
   "execution_count": 6,
   "id": "4901606d",
   "metadata": {},
   "outputs": [
    {
     "name": "stdout",
     "output_type": "stream",
     "text": [
      "[[11 12]\n",
      " [16 17]]\n"
     ]
    }
   ],
   "source": [
    "print(numbers[2:4,0:2])"
   ]
  },
  {
   "cell_type": "code",
   "execution_count": 7,
   "id": "30f12ac8",
   "metadata": {},
   "outputs": [
    {
     "name": "stdout",
     "output_type": "stream",
     "text": [
      "[11 12 16 17]\n"
     ]
    }
   ],
   "source": [
    "result = numbers[[2,2,3,3],[0,1,0,1]]\n",
    "print(result)"
   ]
  },
  {
   "cell_type": "markdown",
   "id": "594a37bd",
   "metadata": {},
   "source": [
    "# 62.Create a dataframe with acuity and EDDisposition as the indices and the count of number of patients as the value."
   ]
  },
  {
   "cell_type": "code",
   "execution_count": 8,
   "id": "d16a7a62",
   "metadata": {},
   "outputs": [
    {
     "data": {
      "text/html": [
       "<div>\n",
       "<style scoped>\n",
       "    .dataframe tbody tr th:only-of-type {\n",
       "        vertical-align: middle;\n",
       "    }\n",
       "\n",
       "    .dataframe tbody tr th {\n",
       "        vertical-align: top;\n",
       "    }\n",
       "\n",
       "    .dataframe thead th {\n",
       "        text-align: right;\n",
       "    }\n",
       "</style>\n",
       "<table border=\"1\" class=\"dataframe\">\n",
       "  <thead>\n",
       "    <tr style=\"text-align: right;\">\n",
       "      <th></th>\n",
       "      <th>EDDisposition</th>\n",
       "      <th>Acuity</th>\n",
       "      <th>index</th>\n",
       "    </tr>\n",
       "  </thead>\n",
       "  <tbody>\n",
       "    <tr>\n",
       "      <th>0</th>\n",
       "      <td>Admitted</td>\n",
       "      <td>1</td>\n",
       "      <td>32</td>\n",
       "    </tr>\n",
       "    <tr>\n",
       "      <th>1</th>\n",
       "      <td>Admitted</td>\n",
       "      <td>2</td>\n",
       "      <td>116</td>\n",
       "    </tr>\n",
       "    <tr>\n",
       "      <th>2</th>\n",
       "      <td>Admitted</td>\n",
       "      <td>3</td>\n",
       "      <td>81</td>\n",
       "    </tr>\n",
       "    <tr>\n",
       "      <th>3</th>\n",
       "      <td>Admitted</td>\n",
       "      <td>4</td>\n",
       "      <td>107</td>\n",
       "    </tr>\n",
       "    <tr>\n",
       "      <th>4</th>\n",
       "      <td>Admitted</td>\n",
       "      <td>5</td>\n",
       "      <td>179</td>\n",
       "    </tr>\n",
       "    <tr>\n",
       "      <th>5</th>\n",
       "      <td>Discharged</td>\n",
       "      <td>1</td>\n",
       "      <td>558</td>\n",
       "    </tr>\n",
       "    <tr>\n",
       "      <th>6</th>\n",
       "      <td>Discharged</td>\n",
       "      <td>2</td>\n",
       "      <td>66</td>\n",
       "    </tr>\n",
       "    <tr>\n",
       "      <th>7</th>\n",
       "      <td>Discharged</td>\n",
       "      <td>4</td>\n",
       "      <td>30</td>\n",
       "    </tr>\n",
       "    <tr>\n",
       "      <th>8</th>\n",
       "      <td>Discharged</td>\n",
       "      <td>5</td>\n",
       "      <td>30</td>\n",
       "    </tr>\n",
       "  </tbody>\n",
       "</table>\n",
       "</div>"
      ],
      "text/plain": [
       "  EDDisposition  Acuity  index\n",
       "0      Admitted       1     32\n",
       "1      Admitted       2    116\n",
       "2      Admitted       3     81\n",
       "3      Admitted       4    107\n",
       "4      Admitted       5    179\n",
       "5    Discharged       1    558\n",
       "6    Discharged       2     66\n",
       "7    Discharged       4     30\n",
       "8    Discharged       5     30"
      ]
     },
     "execution_count": 8,
     "metadata": {},
     "output_type": "execute_result"
    }
   ],
   "source": [
    "df = pd.read_excel('HospitalDatabase.xlsx','EDVisits')\n",
    "\n",
    "df = pd.DataFrame(df, columns=['EDDisposition','Acuity'])\n",
    "\n",
    "df.reset_index().groupby( [ \"EDDisposition\", \"Acuity\"],as_index=False ).count()\n",
    "\n"
   ]
  },
  {
   "cell_type": "markdown",
   "id": "4169ffd6",
   "metadata": {},
   "source": [
    "# 63.List male patients over the age of 60 who have undergone surgery from January-March 2019."
   ]
  },
  {
   "cell_type": "code",
   "execution_count": 29,
   "id": "a7451aa5",
   "metadata": {},
   "outputs": [
    {
     "name": "stdout",
     "output_type": "stream",
     "text": [
      "     PatientID FirstName  LastName             DateOfBirth Gender  \\\n",
      "0            1     Lanni       Sue 1960-01-01 00:00:00.000   Male   \n",
      "1            2       Far     Myers 1985-11-15 02:08:42.090   Male   \n",
      "2            3   Devlin    Michael 1976-04-15 02:52:09.762   Male   \n",
      "3            4   Carmine     Texas 1968-10-15 03:32:13.635   Male   \n",
      "4            5     Tann       Bama 1962-05-01 19:12:58.950   Male   \n",
      "..         ...       ...       ...                     ...    ...   \n",
      "940        941       Wat   Fideler 1986-05-26 00:01:19.761   Male   \n",
      "941        942    Wandie  Baythrop 1970-06-10 21:41:03.814   Male   \n",
      "942        943   Diahann   Smeeton 1983-01-08 21:49:27.884   Male   \n",
      "943        944  Panchito   Sharple 1963-06-05 07:57:05.569   Male   \n",
      "944        945     Walsh    Calvie 1972-08-06 03:40:03.454   Male   \n",
      "\n",
      "                       Race Language  \n",
      "0                     White  English  \n",
      "1                     White  English  \n",
      "2                     White  English  \n",
      "3                     White  English  \n",
      "4                     White  English  \n",
      "..                      ...      ...  \n",
      "940  Black/African-American  English  \n",
      "941  Black/African-American  English  \n",
      "942  Black/African-American  English  \n",
      "943  Black/African-American  English  \n",
      "944  Black/African-American  English  \n",
      "\n",
      "[945 rows x 7 columns]\n"
     ]
    }
   ],
   "source": [
    "from datetime import datetime, date\n",
    "df = pd.read_excel('HospitalDatabase.xlsx','Patients')\n",
    "print(df)\n"
   ]
  },
  {
   "cell_type": "code",
   "execution_count": 30,
   "id": "53354464",
   "metadata": {},
   "outputs": [
    {
     "data": {
      "text/plain": [
       "0     1960-01-01 00:00:00.000\n",
       "1     1985-11-15 02:08:42.090\n",
       "2     1976-04-15 02:52:09.762\n",
       "3     1968-10-15 03:32:13.635\n",
       "4     1962-05-01 19:12:58.950\n",
       "                ...          \n",
       "940   1986-05-26 00:01:19.761\n",
       "941   1970-06-10 21:41:03.814\n",
       "942   1983-01-08 21:49:27.884\n",
       "943   1963-06-05 07:57:05.569\n",
       "944   1972-08-06 03:40:03.454\n",
       "Name: DateOfBirth, Length: 945, dtype: datetime64[ns]"
      ]
     },
     "execution_count": 30,
     "metadata": {},
     "output_type": "execute_result"
    }
   ],
   "source": [
    "df.DateOfBirth"
   ]
  },
  {
   "cell_type": "code",
   "execution_count": null,
   "id": "c705a50b",
   "metadata": {
    "scrolled": true
   },
   "outputs": [],
   "source": [
    "\n",
    "\n"
   ]
  },
  {
   "cell_type": "markdown",
   "id": "584fb37a",
   "metadata": {},
   "source": [
    "# 64.Create a dataframe by splitting provider name to firstname and lastname with names for the columns."
   ]
  },
  {
   "cell_type": "code",
   "execution_count": 85,
   "id": "5962157f",
   "metadata": {},
   "outputs": [],
   "source": [
    "df = pd.read_excel('HospitalDatabase.xlsx','Providers')\n",
    "\n",
    "df = pd.DataFrame(df, columns=['ProviderName'])\n",
    "\n"
   ]
  },
  {
   "cell_type": "markdown",
   "id": "ff4b68ae",
   "metadata": {},
   "source": [
    "# 65."
   ]
  },
  {
   "cell_type": "code",
   "execution_count": null,
   "id": "52cf6009",
   "metadata": {},
   "outputs": [],
   "source": []
  }
 ],
 "metadata": {
  "kernelspec": {
   "display_name": "Python 3 (ipykernel)",
   "language": "python",
   "name": "python3"
  },
  "language_info": {
   "codemirror_mode": {
    "name": "ipython",
    "version": 3
   },
   "file_extension": ".py",
   "mimetype": "text/x-python",
   "name": "python",
   "nbconvert_exporter": "python",
   "pygments_lexer": "ipython3",
   "version": "3.9.13"
  }
 },
 "nbformat": 4,
 "nbformat_minor": 5
}
