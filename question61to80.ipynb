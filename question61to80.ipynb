{
 "cells": [
  {
   "cell_type": "code",
   "execution_count": 47,
   "id": "bd2a159c",
   "metadata": {},
   "outputs": [
    {
     "name": "stdout",
     "output_type": "stream",
     "text": [
      "Requirement already satisfied: pandas in c:\\users\\gowth\\anaconda3\\lib\\site-packages (1.4.4)\n",
      "Requirement already satisfied: pytz>=2020.1 in c:\\users\\gowth\\anaconda3\\lib\\site-packages (from pandas) (2022.1)\n",
      "Requirement already satisfied: numpy>=1.18.5 in c:\\users\\gowth\\anaconda3\\lib\\site-packages (from pandas) (1.21.5)\n",
      "Requirement already satisfied: python-dateutil>=2.8.1 in c:\\users\\gowth\\anaconda3\\lib\\site-packages (from pandas) (2.8.2)\n",
      "Requirement already satisfied: six>=1.5 in c:\\users\\gowth\\anaconda3\\lib\\site-packages (from python-dateutil>=2.8.1->pandas) (1.16.0)\n",
      "Note: you may need to restart the kernel to use updated packages.\n"
     ]
    }
   ],
   "source": [
    "pip install pandas"
   ]
  },
  {
   "cell_type": "code",
   "execution_count": 48,
   "id": "2dd7a57d",
   "metadata": {},
   "outputs": [],
   "source": [
    "import numpy as np\n",
    "import pandas as pd\n",
    "import matplotlib.pyplot as plt\n",
    "import seaborn as sns\n",
    "from datetime import datetime as dt, date"
   ]
  },
  {
   "cell_type": "markdown",
   "id": "333b648e",
   "metadata": {},
   "source": [
    "# 61.np.arange(1,31).reshape(6,5) Find the array slicing to get the elements with values 11,12,16,17."
   ]
  },
  {
   "cell_type": "code",
   "execution_count": 166,
   "id": "2f8bd653",
   "metadata": {},
   "outputs": [
    {
     "name": "stdout",
     "output_type": "stream",
     "text": [
      "[11 12 16 17]\n"
     ]
    }
   ],
   "source": [
    "numbers = np.arange(1,31)\n",
    "numbers = numbers.reshape(6,5)\n",
    "result = numbers[[2,2,3,3],[0,1,0,1]]   \n",
    "print(result)"
   ]
  },
  {
   "cell_type": "markdown",
   "id": "594a37bd",
   "metadata": {},
   "source": [
    "# 62.Create a dataframe with acuity and EDDisposition as the indices and the count of number of patients as the value."
   ]
  },
  {
   "cell_type": "code",
   "execution_count": 29,
   "id": "d16a7a62",
   "metadata": {},
   "outputs": [
    {
     "data": {
      "text/html": [
       "<div>\n",
       "<style scoped>\n",
       "    .dataframe tbody tr th:only-of-type {\n",
       "        vertical-align: middle;\n",
       "    }\n",
       "\n",
       "    .dataframe tbody tr th {\n",
       "        vertical-align: top;\n",
       "    }\n",
       "\n",
       "    .dataframe thead th {\n",
       "        text-align: right;\n",
       "    }\n",
       "</style>\n",
       "<table border=\"1\" class=\"dataframe\">\n",
       "  <thead>\n",
       "    <tr style=\"text-align: right;\">\n",
       "      <th></th>\n",
       "      <th>EDDisposition</th>\n",
       "      <th>Acuity</th>\n",
       "      <th>index</th>\n",
       "    </tr>\n",
       "  </thead>\n",
       "  <tbody>\n",
       "    <tr>\n",
       "      <th>0</th>\n",
       "      <td>Admitted</td>\n",
       "      <td>1</td>\n",
       "      <td>32</td>\n",
       "    </tr>\n",
       "    <tr>\n",
       "      <th>1</th>\n",
       "      <td>Admitted</td>\n",
       "      <td>2</td>\n",
       "      <td>116</td>\n",
       "    </tr>\n",
       "    <tr>\n",
       "      <th>2</th>\n",
       "      <td>Admitted</td>\n",
       "      <td>3</td>\n",
       "      <td>81</td>\n",
       "    </tr>\n",
       "    <tr>\n",
       "      <th>3</th>\n",
       "      <td>Admitted</td>\n",
       "      <td>4</td>\n",
       "      <td>107</td>\n",
       "    </tr>\n",
       "    <tr>\n",
       "      <th>4</th>\n",
       "      <td>Admitted</td>\n",
       "      <td>5</td>\n",
       "      <td>179</td>\n",
       "    </tr>\n",
       "    <tr>\n",
       "      <th>5</th>\n",
       "      <td>Discharged</td>\n",
       "      <td>1</td>\n",
       "      <td>558</td>\n",
       "    </tr>\n",
       "    <tr>\n",
       "      <th>6</th>\n",
       "      <td>Discharged</td>\n",
       "      <td>2</td>\n",
       "      <td>66</td>\n",
       "    </tr>\n",
       "    <tr>\n",
       "      <th>7</th>\n",
       "      <td>Discharged</td>\n",
       "      <td>4</td>\n",
       "      <td>30</td>\n",
       "    </tr>\n",
       "    <tr>\n",
       "      <th>8</th>\n",
       "      <td>Discharged</td>\n",
       "      <td>5</td>\n",
       "      <td>30</td>\n",
       "    </tr>\n",
       "  </tbody>\n",
       "</table>\n",
       "</div>"
      ],
      "text/plain": [
       "  EDDisposition  Acuity  index\n",
       "0      Admitted       1     32\n",
       "1      Admitted       2    116\n",
       "2      Admitted       3     81\n",
       "3      Admitted       4    107\n",
       "4      Admitted       5    179\n",
       "5    Discharged       1    558\n",
       "6    Discharged       2     66\n",
       "7    Discharged       4     30\n",
       "8    Discharged       5     30"
      ]
     },
     "execution_count": 29,
     "metadata": {},
     "output_type": "execute_result"
    }
   ],
   "source": [
    "df = pd.read_excel('HospitalDatabase.xlsx','EDVisits')\n",
    "df = pd.DataFrame(df, columns=['EDDisposition','Acuity'])\n",
    "df.reset_index().groupby( [ \"EDDisposition\", \"Acuity\"],as_index=False ).count()"
   ]
  },
  {
   "cell_type": "markdown",
   "id": "4169ffd6",
   "metadata": {},
   "source": [
    "# 63.List male patients over the age of 60 who have undergone surgery from January-March 2019."
   ]
  },
  {
   "cell_type": "code",
   "execution_count": 144,
   "id": "a7451aa5",
   "metadata": {},
   "outputs": [
    {
     "ename": "SyntaxError",
     "evalue": "invalid syntax (484532737.py, line 3)",
     "output_type": "error",
     "traceback": [
      "\u001b[1;36m  File \u001b[1;32m\"C:\\Users\\gowth\\AppData\\Local\\Temp\\ipykernel_23956\\484532737.py\"\u001b[1;36m, line \u001b[1;32m3\u001b[0m\n\u001b[1;33m    df = pd.merge(df1, df2 on='PatientID')\u001b[0m\n\u001b[1;37m                           ^\u001b[0m\n\u001b[1;31mSyntaxError\u001b[0m\u001b[1;31m:\u001b[0m invalid syntax\n"
     ]
    }
   ],
   "source": [
    "df1 = pd.read_excel('HospitalDatabase.xlsx','Patients')\n",
    "df2 = pd.read_excel('HospitalDatabase.xlsx','AmbulatoryVisits')\n",
    "df = pd.merge(df1, df2 on='PatientID')\n",
    "df = pd.DataFrame(df, columns=['PatientID' ,'DateOfBirth','Gender','ProviderID','ProviderSpecialty'])\n",
    "\n",
    "now = pd.to_datetime('now')\n",
    "#calculate Age\n",
    "df['Age']=(now - df['DateOfBirth']).astype('<m8[Y]') \n",
    "\n",
    "#male patients over the age of 60\n",
    "rs_df = df[(df['Age'] > 60) & (df['Gender']=='Male')]\n",
    "rs_d = rs_df & (df['Service']='')\n"
   ]
  },
  {
   "cell_type": "markdown",
   "id": "584fb37a",
   "metadata": {},
   "source": [
    "# 64.Create a dataframe by splitting provider name to firstname and lastname with names for the columns."
   ]
  },
  {
   "cell_type": "code",
   "execution_count": 23,
   "id": "5962157f",
   "metadata": {},
   "outputs": [
    {
     "data": {
      "text/html": [
       "<div>\n",
       "<style scoped>\n",
       "    .dataframe tbody tr th:only-of-type {\n",
       "        vertical-align: middle;\n",
       "    }\n",
       "\n",
       "    .dataframe tbody tr th {\n",
       "        vertical-align: top;\n",
       "    }\n",
       "\n",
       "    .dataframe thead th {\n",
       "        text-align: right;\n",
       "    }\n",
       "</style>\n",
       "<table border=\"1\" class=\"dataframe\">\n",
       "  <thead>\n",
       "    <tr style=\"text-align: right;\">\n",
       "      <th></th>\n",
       "      <th>ProviderName</th>\n",
       "      <th>First Name</th>\n",
       "      <th>Last Name</th>\n",
       "    </tr>\n",
       "  </thead>\n",
       "  <tbody>\n",
       "    <tr>\n",
       "      <th>0</th>\n",
       "      <td>Sally Sue</td>\n",
       "      <td>Sally</td>\n",
       "      <td>Sue</td>\n",
       "    </tr>\n",
       "    <tr>\n",
       "      <th>1</th>\n",
       "      <td>Mike Myers</td>\n",
       "      <td>Mike</td>\n",
       "      <td>Myers</td>\n",
       "    </tr>\n",
       "    <tr>\n",
       "      <th>2</th>\n",
       "      <td>Jordan Michael</td>\n",
       "      <td>Jordan</td>\n",
       "      <td>Michael</td>\n",
       "    </tr>\n",
       "    <tr>\n",
       "      <th>3</th>\n",
       "      <td>Ted Texas</td>\n",
       "      <td>Ted</td>\n",
       "      <td>Texas</td>\n",
       "    </tr>\n",
       "    <tr>\n",
       "      <th>4</th>\n",
       "      <td>Ala Bama</td>\n",
       "      <td>Ala</td>\n",
       "      <td>Bama</td>\n",
       "    </tr>\n",
       "    <tr>\n",
       "      <th>5</th>\n",
       "      <td>Harry Kane</td>\n",
       "      <td>Harry</td>\n",
       "      <td>Kane</td>\n",
       "    </tr>\n",
       "    <tr>\n",
       "      <th>6</th>\n",
       "      <td>Barry Bar</td>\n",
       "      <td>Barry</td>\n",
       "      <td>Bar</td>\n",
       "    </tr>\n",
       "    <tr>\n",
       "      <th>7</th>\n",
       "      <td>Ted Green</td>\n",
       "      <td>Ted</td>\n",
       "      <td>Green</td>\n",
       "    </tr>\n",
       "    <tr>\n",
       "      <th>8</th>\n",
       "      <td>Ted Black</td>\n",
       "      <td>Ted</td>\n",
       "      <td>Black</td>\n",
       "    </tr>\n",
       "    <tr>\n",
       "      <th>9</th>\n",
       "      <td>Fred Man</td>\n",
       "      <td>Fred</td>\n",
       "      <td>Man</td>\n",
       "    </tr>\n",
       "    <tr>\n",
       "      <th>10</th>\n",
       "      <td>Kim Kimberly</td>\n",
       "      <td>Kim</td>\n",
       "      <td>Kimberly</td>\n",
       "    </tr>\n",
       "    <tr>\n",
       "      <th>11</th>\n",
       "      <td>Sarah Ab</td>\n",
       "      <td>Sarah</td>\n",
       "      <td>Ab</td>\n",
       "    </tr>\n",
       "    <tr>\n",
       "      <th>12</th>\n",
       "      <td>Abigail Marriot</td>\n",
       "      <td>Abigail</td>\n",
       "      <td>Marriot</td>\n",
       "    </tr>\n",
       "    <tr>\n",
       "      <th>13</th>\n",
       "      <td>Dave Yu</td>\n",
       "      <td>Dave</td>\n",
       "      <td>Yu</td>\n",
       "    </tr>\n",
       "    <tr>\n",
       "      <th>14</th>\n",
       "      <td>Christian Saint</td>\n",
       "      <td>Christian</td>\n",
       "      <td>Saint</td>\n",
       "    </tr>\n",
       "    <tr>\n",
       "      <th>15</th>\n",
       "      <td>Perry Pardon</td>\n",
       "      <td>Perry</td>\n",
       "      <td>Pardon</td>\n",
       "    </tr>\n",
       "    <tr>\n",
       "      <th>16</th>\n",
       "      <td>Kent Kendall</td>\n",
       "      <td>Kent</td>\n",
       "      <td>Kendall</td>\n",
       "    </tr>\n",
       "    <tr>\n",
       "      <th>17</th>\n",
       "      <td>Ryan Kevin</td>\n",
       "      <td>Ryan</td>\n",
       "      <td>Kevin</td>\n",
       "    </tr>\n",
       "    <tr>\n",
       "      <th>18</th>\n",
       "      <td>Tyler Conner</td>\n",
       "      <td>Tyler</td>\n",
       "      <td>Conner</td>\n",
       "    </tr>\n",
       "    <tr>\n",
       "      <th>19</th>\n",
       "      <td>Bailey Barret</td>\n",
       "      <td>Bailey</td>\n",
       "      <td>Barret</td>\n",
       "    </tr>\n",
       "    <tr>\n",
       "      <th>20</th>\n",
       "      <td>Megan Bonco</td>\n",
       "      <td>Megan</td>\n",
       "      <td>Bonco</td>\n",
       "    </tr>\n",
       "    <tr>\n",
       "      <th>21</th>\n",
       "      <td>Joesph Walter</td>\n",
       "      <td>Joesph</td>\n",
       "      <td>Walter</td>\n",
       "    </tr>\n",
       "    <tr>\n",
       "      <th>22</th>\n",
       "      <td>Walter King</td>\n",
       "      <td>Walter</td>\n",
       "      <td>King</td>\n",
       "    </tr>\n",
       "    <tr>\n",
       "      <th>23</th>\n",
       "      <td>Luke Long</td>\n",
       "      <td>Luke</td>\n",
       "      <td>Long</td>\n",
       "    </tr>\n",
       "    <tr>\n",
       "      <th>24</th>\n",
       "      <td>Justin Time</td>\n",
       "      <td>Justin</td>\n",
       "      <td>Time</td>\n",
       "    </tr>\n",
       "    <tr>\n",
       "      <th>25</th>\n",
       "      <td>Mike Joseph</td>\n",
       "      <td>Mike</td>\n",
       "      <td>Joseph</td>\n",
       "    </tr>\n",
       "    <tr>\n",
       "      <th>26</th>\n",
       "      <td>Bridget Brenda</td>\n",
       "      <td>Bridget</td>\n",
       "      <td>Brenda</td>\n",
       "    </tr>\n",
       "    <tr>\n",
       "      <th>27</th>\n",
       "      <td>Brenda Bing</td>\n",
       "      <td>Brenda</td>\n",
       "      <td>Bing</td>\n",
       "    </tr>\n",
       "    <tr>\n",
       "      <th>28</th>\n",
       "      <td>Chandler Bing</td>\n",
       "      <td>Chandler</td>\n",
       "      <td>Bing</td>\n",
       "    </tr>\n",
       "    <tr>\n",
       "      <th>29</th>\n",
       "      <td>Joesph Ross</td>\n",
       "      <td>Joesph</td>\n",
       "      <td>Ross</td>\n",
       "    </tr>\n",
       "    <tr>\n",
       "      <th>30</th>\n",
       "      <td>Dwight Scott</td>\n",
       "      <td>Dwight</td>\n",
       "      <td>Scott</td>\n",
       "    </tr>\n",
       "    <tr>\n",
       "      <th>31</th>\n",
       "      <td>Michael Halpert</td>\n",
       "      <td>Michael</td>\n",
       "      <td>Halpert</td>\n",
       "    </tr>\n",
       "    <tr>\n",
       "      <th>32</th>\n",
       "      <td>Pamela Ding</td>\n",
       "      <td>Pamela</td>\n",
       "      <td>Ding</td>\n",
       "    </tr>\n",
       "    <tr>\n",
       "      <th>33</th>\n",
       "      <td>Tony Creed</td>\n",
       "      <td>Tony</td>\n",
       "      <td>Creed</td>\n",
       "    </tr>\n",
       "    <tr>\n",
       "      <th>34</th>\n",
       "      <td>Phyllis Stanley</td>\n",
       "      <td>Phyllis</td>\n",
       "      <td>Stanley</td>\n",
       "    </tr>\n",
       "    <tr>\n",
       "      <th>35</th>\n",
       "      <td>Holly Hue</td>\n",
       "      <td>Holly</td>\n",
       "      <td>Hue</td>\n",
       "    </tr>\n",
       "    <tr>\n",
       "      <th>36</th>\n",
       "      <td>Trent Tye</td>\n",
       "      <td>Trent</td>\n",
       "      <td>Tye</td>\n",
       "    </tr>\n",
       "    <tr>\n",
       "      <th>37</th>\n",
       "      <td>Kimberly Cone</td>\n",
       "      <td>Kimberly</td>\n",
       "      <td>Cone</td>\n",
       "    </tr>\n",
       "    <tr>\n",
       "      <th>38</th>\n",
       "      <td>Harry West</td>\n",
       "      <td>Harry</td>\n",
       "      <td>West</td>\n",
       "    </tr>\n",
       "    <tr>\n",
       "      <th>39</th>\n",
       "      <td>Rosie Renter</td>\n",
       "      <td>Rosie</td>\n",
       "      <td>Renter</td>\n",
       "    </tr>\n",
       "  </tbody>\n",
       "</table>\n",
       "</div>"
      ],
      "text/plain": [
       "       ProviderName First Name Last Name\n",
       "0         Sally Sue      Sally       Sue\n",
       "1        Mike Myers       Mike     Myers\n",
       "2    Jordan Michael     Jordan   Michael\n",
       "3         Ted Texas        Ted     Texas\n",
       "4          Ala Bama        Ala      Bama\n",
       "5        Harry Kane      Harry      Kane\n",
       "6         Barry Bar      Barry       Bar\n",
       "7         Ted Green        Ted     Green\n",
       "8         Ted Black        Ted     Black\n",
       "9          Fred Man       Fred       Man\n",
       "10     Kim Kimberly        Kim  Kimberly\n",
       "11         Sarah Ab      Sarah        Ab\n",
       "12  Abigail Marriot    Abigail   Marriot\n",
       "13          Dave Yu       Dave        Yu\n",
       "14  Christian Saint  Christian     Saint\n",
       "15     Perry Pardon      Perry    Pardon\n",
       "16     Kent Kendall       Kent   Kendall\n",
       "17       Ryan Kevin       Ryan     Kevin\n",
       "18     Tyler Conner      Tyler    Conner\n",
       "19    Bailey Barret     Bailey    Barret\n",
       "20      Megan Bonco      Megan     Bonco\n",
       "21    Joesph Walter     Joesph    Walter\n",
       "22      Walter King     Walter      King\n",
       "23        Luke Long       Luke      Long\n",
       "24      Justin Time     Justin      Time\n",
       "25      Mike Joseph       Mike    Joseph\n",
       "26   Bridget Brenda    Bridget    Brenda\n",
       "27      Brenda Bing     Brenda      Bing\n",
       "28    Chandler Bing   Chandler      Bing\n",
       "29      Joesph Ross     Joesph      Ross\n",
       "30     Dwight Scott     Dwight     Scott\n",
       "31  Michael Halpert    Michael   Halpert\n",
       "32      Pamela Ding     Pamela      Ding\n",
       "33       Tony Creed       Tony     Creed\n",
       "34  Phyllis Stanley    Phyllis   Stanley\n",
       "35        Holly Hue      Holly       Hue\n",
       "36        Trent Tye      Trent       Tye\n",
       "37    Kimberly Cone   Kimberly      Cone\n",
       "38       Harry West      Harry      West\n",
       "39     Rosie Renter      Rosie    Renter"
      ]
     },
     "execution_count": 23,
     "metadata": {},
     "output_type": "execute_result"
    }
   ],
   "source": [
    "df = pd.read_excel('HospitalDatabase.xlsx','Providers')\n",
    "df = pd.DataFrame(df, columns=['ProviderName'])\n",
    "df[['First Name', 'Last Name']] = df['ProviderName'].str.split(' ', 1, expand=True) #split the name using space \n",
    "df   # print the provider name ,first name and Last name"
   ]
  },
  {
   "cell_type": "markdown",
   "id": "ff4b68ae",
   "metadata": {},
   "source": [
    "# 65.Plot a graph showing the count of patients for the reason visited the hospital."
   ]
  },
  {
   "cell_type": "code",
   "execution_count": 10,
   "id": "39afd779",
   "metadata": {},
   "outputs": [
    {
     "data": {
      "image/png": "[encoded data removed]",
      "text/plain": [
       "<Figure size 500x500 with 1 Axes>"
      ]
     },
     "metadata": {},
     "output_type": "display_data"
    }
   ],
   "source": [
    "df = pd.read_excel('HospitalDatabase.xlsx','EDVisits')\n",
    "df = pd.DataFrame(df, columns=['ReasonForVisit','PatientID'])\n",
    "sns.catplot(x = \"ReasonForVisit\", kind = \"count\", data = df )\n",
    "\n",
    "    \n",
    "plt.xticks(rotation=90)\n",
    "plt.show()\n",
    "\n",
    "\n",
    "ax = sns.countplot(df[\"coltype\"], \n",
    "                   order = df[\"coltype\"].value_counts().index)\n",
    "\n",
    "for p, label in zip(ax.patches, df[\"coltype\"].value_counts().index):\n",
    "    ax.annotate(label, (p.get_x()+0.375, p.get_height()+0.15))"
   ]
  },
  {
   "cell_type": "markdown",
   "id": "7a0065e7",
   "metadata": {},
   "source": [
    "# 66.Get the FirstName, LastName, DateOfBirth of the Patients whose reason for visit is Migraine. Use EDUnique Sheet for reason for visit."
   ]
  },
  {
   "cell_type": "code",
   "execution_count": 164,
   "id": "7fa86474",
   "metadata": {},
   "outputs": [
    {
     "name": "stdout",
     "output_type": "stream",
     "text": [
      "      PatientID  FirstName  LastName             DateOfBirth  Gender  \\\n",
      "3             2        Far     Myers 1985-11-15 02:08:42.090    Male   \n",
      "4             3    Devlin    Michael 1976-04-15 02:52:09.762    Male   \n",
      "18            7    Skipton       Bar 1975-11-25 22:23:53.525    Male   \n",
      "20            8  Alexandra     Green 1967-06-16 16:37:21.694    Male   \n",
      "24           10     Granny       Man 1969-09-15 11:20:42.218    Male   \n",
      "...         ...        ...       ...                     ...     ...   \n",
      "1150        897    Barrows  Coupland 1979-10-31 18:28:35.483    Male   \n",
      "1161        908       Knox     Group 1975-08-25 22:27:50.177    Male   \n",
      "1163        910    Kuvalis  Coupland 1986-05-23 19:23:27.752    Male   \n",
      "1168        915   Jerrilyn     Dyson 1978-01-18 02:41:55.178  Female   \n",
      "1177        924     Daniel  Shakesby 1980-11-28 17:57:03.702    Male   \n",
      "\n",
      "                        Race Language  EDVisitID               VisitDate  \\\n",
      "3                      White  English          2 2020-01-01 00:00:40.339   \n",
      "4                      White  English         55 2020-01-01 15:01:29.846   \n",
      "18                     White  English         98 2020-01-02 01:33:47.283   \n",
      "20                     White  English          8 2020-01-01 01:15:35.564   \n",
      "24                     White  English         10 2020-01-01 02:02:03.160   \n",
      "...                      ...      ...        ...                     ...   \n",
      "1150                   White  English       1151 2020-01-15 00:24:27.036   \n",
      "1161  Black/African-American  English       1162 2020-01-15 03:20:10.313   \n",
      "1163  Black/African-American  English       1164 2020-01-15 04:02:21.645   \n",
      "1168  Black/African-American  English       1169 2020-01-15 05:30:02.889   \n",
      "1177  Black/African-American  English       1178 2020-01-15 09:26:24.572   \n",
      "\n",
      "             EDDischargeTime  Acuity ReasonForVisit EDDisposition  \n",
      "3    2020-01-01 11:46:34.398       1       Migraine    Discharged  \n",
      "4    2020-01-01 23:11:53.864       3       Migraine      Admitted  \n",
      "18   2020-01-02 11:36:20.129       2       Migraine    Discharged  \n",
      "20   2020-01-02 00:07:24.636       2       Migraine    Discharged  \n",
      "24   2020-01-01 08:28:27.128       2       Migraine    Discharged  \n",
      "...                      ...     ...            ...           ...  \n",
      "1150 2020-01-15 02:11:30.139       1       Migraine    Discharged  \n",
      "1161 2020-01-15 05:12:01.600       1       Migraine    Discharged  \n",
      "1163 2020-01-15 19:45:03.534       1       Migraine    Discharged  \n",
      "1168 2020-01-15 18:47:12.044       3       Migraine      Admitted  \n",
      "1177 2020-01-15 13:51:44.936       1       Migraine    Discharged  \n",
      "\n",
      "[156 rows x 13 columns]\n"
     ]
    }
   ],
   "source": [
    "df1 = pd.read_excel('HospitalDatabase.xlsx','Patients')\n",
    "df2 = pd.read_excel('HospitalDatabase.xlsx','EDVisits')\n",
    "df = pd.merge(df1, df2, on='PatientID')\n",
    "rs_df = df[df['ReasonForVisit'] == 'Migraine' ]\n",
    "rs_df[['FirstName', 'LastName' , 'DateOfBirth' , 'ReasonForVisit']]\n",
    "print(rs_df)"
   ]
  },
  {
   "cell_type": "markdown",
   "id": "a26308a9",
   "metadata": {},
   "source": [
    "# 67.Make a pivot table by the no. of patients from the admission date till discharge date."
   ]
  },
  {
   "cell_type": "code",
   "execution_count": 23,
   "id": "e55b6ee9",
   "metadata": {
    "scrolled": true
   },
   "outputs": [
    {
     "data": {
      "text/html": [
       "<div>\n",
       "<style scoped>\n",
       "    .dataframe tbody tr th:only-of-type {\n",
       "        vertical-align: middle;\n",
       "    }\n",
       "\n",
       "    .dataframe tbody tr th {\n",
       "        vertical-align: top;\n",
       "    }\n",
       "\n",
       "    .dataframe thead th {\n",
       "        text-align: right;\n",
       "    }\n",
       "</style>\n",
       "<table border=\"1\" class=\"dataframe\">\n",
       "  <thead>\n",
       "    <tr style=\"text-align: right;\">\n",
       "      <th></th>\n",
       "      <th></th>\n",
       "      <th>PatientID</th>\n",
       "    </tr>\n",
       "    <tr>\n",
       "      <th>AdmissionDate</th>\n",
       "      <th>DischargeDate</th>\n",
       "      <th></th>\n",
       "    </tr>\n",
       "  </thead>\n",
       "  <tbody>\n",
       "    <tr>\n",
       "      <th rowspan=\"5\" valign=\"top\">2018-01-01</th>\n",
       "      <th>2018-01-04 19:59:31.391</th>\n",
       "      <td>1</td>\n",
       "    </tr>\n",
       "    <tr>\n",
       "      <th>2018-01-04 21:28:51.898</th>\n",
       "      <td>2</td>\n",
       "    </tr>\n",
       "    <tr>\n",
       "      <th>2018-01-04 22:28:23.672</th>\n",
       "      <td>3</td>\n",
       "    </tr>\n",
       "    <tr>\n",
       "      <th>2018-01-05 05:47:04.933</th>\n",
       "      <td>5</td>\n",
       "    </tr>\n",
       "    <tr>\n",
       "      <th>2018-01-05 14:18:30.029</th>\n",
       "      <td>6</td>\n",
       "    </tr>\n",
       "    <tr>\n",
       "      <th>...</th>\n",
       "      <th>...</th>\n",
       "      <td>...</td>\n",
       "    </tr>\n",
       "    <tr>\n",
       "      <th rowspan=\"5\" valign=\"top\">2018-02-22</th>\n",
       "      <th>2018-03-07 21:22:10.061</th>\n",
       "      <td>738</td>\n",
       "    </tr>\n",
       "    <tr>\n",
       "      <th>2018-03-08 02:43:18.749</th>\n",
       "      <td>739</td>\n",
       "    </tr>\n",
       "    <tr>\n",
       "      <th>2018-03-08 09:27:18.377</th>\n",
       "      <td>740</td>\n",
       "    </tr>\n",
       "    <tr>\n",
       "      <th>2018-03-10 06:06:12.068</th>\n",
       "      <td>741</td>\n",
       "    </tr>\n",
       "    <tr>\n",
       "      <th>2018-03-10 20:38:30.568</th>\n",
       "      <td>742</td>\n",
       "    </tr>\n",
       "  </tbody>\n",
       "</table>\n",
       "<p>720 rows × 1 columns</p>\n",
       "</div>"
      ],
      "text/plain": [
       "                                       PatientID\n",
       "AdmissionDate DischargeDate                     \n",
       "2018-01-01    2018-01-04 19:59:31.391          1\n",
       "              2018-01-04 21:28:51.898          2\n",
       "              2018-01-04 22:28:23.672          3\n",
       "              2018-01-05 05:47:04.933          5\n",
       "              2018-01-05 14:18:30.029          6\n",
       "...                                          ...\n",
       "2018-02-22    2018-03-07 21:22:10.061        738\n",
       "              2018-03-08 02:43:18.749        739\n",
       "              2018-03-08 09:27:18.377        740\n",
       "              2018-03-10 06:06:12.068        741\n",
       "              2018-03-10 20:38:30.568        742\n",
       "\n",
       "[720 rows x 1 columns]"
      ]
     },
     "metadata": {},
     "output_type": "display_data"
    }
   ],
   "source": [
    "df = pd.read_excel('HospitalDatabase.xlsx','ReAdmissionRegistry')\n",
    "df = pd.DataFrame(df, columns=['AdmissionDate' , 'DischargeDate' , 'PatientID'])\n",
    "display(pd.pivot_table(df, index = [\"AdmissionDate\" , \"DischargeDate\"]))"
   ]
  },
  {
   "cell_type": "markdown",
   "id": "0bccc87c",
   "metadata": {},
   "source": [
    "# 68.Calculate average LOS."
   ]
  },
  {
   "cell_type": "code",
   "execution_count": 63,
   "id": "04d5a90d",
   "metadata": {},
   "outputs": [],
   "source": [
    "from datetime import datetime\n",
    "\n",
    "df = pd.read_excel('HospitalDatabase.xlsx','Discharges')\n",
    "df = pd.DataFrame(df, columns=['AdmissionDate' , 'DischargeDate' , 'PatientID'])\n",
    "\n",
    "admission_dates = df.AdmissionDate\n",
    "discharge_dates = df.DischargeDate\n",
    "\n",
    "\n",
    "\n",
    "\n"
   ]
  },
  {
   "cell_type": "markdown",
   "id": "f89bdf3b",
   "metadata": {},
   "source": [
    "# 69.Number of patients on 'Transfer' based on primary diagnosis."
   ]
  },
  {
   "cell_type": "code",
   "execution_count": 163,
   "id": "6dda1b0a",
   "metadata": {},
   "outputs": [
    {
     "data": {
      "text/plain": [
       "PrimaryDiagnosis  DischargeDisposition\n",
       "Afib              Transfer                1\n",
       "Diabetes          Transfer                7\n",
       "Flu               Transfer                2\n",
       "Heart Failure     Transfer                9\n",
       "Knee Replacement  Transfer                1\n",
       "Laceration        Transfer                1\n",
       "Pain              Transfer                1\n",
       "Pneumonia         Transfer                8\n",
       "Stroke            Transfer                9\n",
       "Name: PatientID, dtype: int64"
      ]
     },
     "execution_count": 163,
     "metadata": {},
     "output_type": "execute_result"
    }
   ],
   "source": [
    "df = pd.read_excel('HospitalDatabase.xlsx','ReAdmissionRegistry')\n",
    "df = pd.DataFrame(df, columns=['PrimaryDiagnosis' , 'DischargeDisposition' , 'PatientID'])\n",
    "rs_df = df[df['DischargeDisposition'] == 'Transfer' ]\n",
    "rs_df[['PrimaryDiagnosis' , 'DischargeDisposition' , 'PatientID']]\n",
    "rs_df.groupby(['PrimaryDiagnosis','DischargeDisposition'])['PatientID'].count()"
   ]
  },
  {
   "cell_type": "markdown",
   "id": "b54bea7e",
   "metadata": {},
   "source": [
    "# 70.Violin plot for Level of Acuity by Visit Reason"
   ]
  },
  {
   "cell_type": "code",
   "execution_count": 162,
   "id": "9d745d4a",
   "metadata": {},
   "outputs": [
    {
     "data": {
      "image/png": "[encoded data removed]",
      "text/plain": [
       "<Figure size 640x480 with 1 Axes>"
      ]
     },
     "metadata": {},
     "output_type": "display_data"
    }
   ],
   "source": [
    "import warnings\n",
    "warnings.filterwarnings(\"ignore\")\n",
    "df = pd.read_excel('HospitalDatabase.xlsx','EDVisits')\n",
    "df = pd.DataFrame(df, columns=['ReasonForVisit','PatientID','Acuity'])\n",
    "fig, axes = plt.subplots()\n",
    "sns.violinplot(\"ReasonForVisit\",'Acuity', data=df, ax = axes)\n",
    "axes.set_title('Level of Acuity by Visit Reason')\n",
    "axes.yaxis.grid(True)\n",
    "axes.set_ylabel('Acuity')\n",
    "axes.set_xlabel('Visit Reason')\n",
    "plt.xticks(rotation=90)\n",
    "plt.show()"
   ]
  },
  {
   "cell_type": "markdown",
   "id": "6d5c3aa9",
   "metadata": {},
   "source": [
    "# 71.Find the count of White Spanish Male."
   ]
  },
  {
   "cell_type": "code",
   "execution_count": 101,
   "id": "60c90079",
   "metadata": {},
   "outputs": [
    {
     "data": {
      "text/plain": [
       "Race   Language  Gender\n",
       "White  Spanish   Male      15\n",
       "Name: PatientID, dtype: int64"
      ]
     },
     "execution_count": 101,
     "metadata": {},
     "output_type": "execute_result"
    }
   ],
   "source": [
    "df = pd.read_excel('HospitalDatabase.xlsx','Patients')\n",
    "df = pd.DataFrame(df, columns=['Gender' , 'Race' , 'PatientID' , 'Language'])\n",
    "rs_df = df[(df['Race'] == 'White') & (df['Gender']=='Male') & (df['Language']=='Spanish')]\n",
    "rs_df.groupby(['Race','Language','Gender'])['PatientID'].count()"
   ]
  },
  {
   "cell_type": "markdown",
   "id": "d2706e18",
   "metadata": {},
   "source": [
    "# 72.Which PrimaryDiagnosis has the biggest difference between maximum and minimum Expected LOS?"
   ]
  },
  {
   "cell_type": "markdown",
   "id": "03a2ebda",
   "metadata": {},
   "source": [
    "# 73.Which patient id has most entries in readmission registry."
   ]
  },
  {
   "cell_type": "code",
   "execution_count": 104,
   "id": "5e24272d",
   "metadata": {},
   "outputs": [],
   "source": [
    "df = pd.read_excel('HospitalDatabase.xlsx','ReAdmissionRegistry')\n",
    "df = pd.DataFrame(df, columns=['PrimaryDiagnosis' , 'DischargeDisposition' , 'PatientID'])"
   ]
  },
  {
   "cell_type": "markdown",
   "id": "9a312c37",
   "metadata": {},
   "source": [
    "# 74.Create a figure object called fig using plt.figure() ** ** Use add_axes to add an axis to the figure canvas at [0,0,1,1]. Call this new axis ax. ** ** Plot (x,y) on that axes and set the labels. Note : You can plot on any x,y set of values."
   ]
  },
  {
   "cell_type": "code",
   "execution_count": 121,
   "id": "fbcfb42b",
   "metadata": {},
   "outputs": [
    {
     "data": {
      "image/png": "[encoded data removed]",
      "text/plain": [
       "<Figure size 640x480 with 1 Axes>"
      ]
     },
     "metadata": {},
     "output_type": "display_data"
    }
   ],
   "source": [
    "x = [1,3,5,7,9]\n",
    "y = [10, 8, 6, 4, 2]\n",
    "fig = plt.figure()\n",
    "ax = fig.add_axes([0,0,1,1])\n",
    "ax.plot(x,y)\n",
    "ax.set_xlabel('X')\n",
    "ax.set_ylabel('Y')\n",
    "ax.set_title('74.Create a figure object called fig using plt.figure()')\n",
    "plt.show()"
   ]
  },
  {
   "cell_type": "markdown",
   "id": "73d99d43",
   "metadata": {},
   "source": [
    "# 75.Using numpy functions, multiply the following arrays a=np.arange(6).reshape(2,3) b=np.arange(6).reshape(3,2)"
   ]
  },
  {
   "cell_type": "code",
   "execution_count": 167,
   "id": "9c4f29a4",
   "metadata": {},
   "outputs": [
    {
     "name": "stdout",
     "output_type": "stream",
     "text": [
      "multiplied a and b is: \n",
      " [[10 13]\n",
      " [28 40]]\n"
     ]
    }
   ],
   "source": [
    "import numpy as np\n",
    "a = np.arange(6).reshape(2,3)\n",
    "b = np.arange(6).reshape(3,2)\n",
    "print('multiplied a and b is: \\n', np.dot(a, b))"
   ]
  },
  {
   "cell_type": "markdown",
   "id": "650233f5",
   "metadata": {},
   "source": [
    "# 76.Mortality O:E"
   ]
  },
  {
   "cell_type": "code",
   "execution_count": 171,
   "id": "2cd5cd96",
   "metadata": {},
   "outputs": [
    {
     "ename": "TypeError",
     "evalue": "unsupported operand type(s) for /: 'str' and 'float'",
     "output_type": "error",
     "traceback": [
      "\u001b[1;31m---------------------------------------------------------------------------\u001b[0m",
      "\u001b[1;31mTypeError\u001b[0m                                 Traceback (most recent call last)",
      "\u001b[1;32m~\\anaconda3\\lib\\site-packages\\pandas\\core\\ops\\array_ops.py\u001b[0m in \u001b[0;36m_na_arithmetic_op\u001b[1;34m(left, right, op, is_cmp)\u001b[0m\n\u001b[0;32m    162\u001b[0m     \u001b[1;32mtry\u001b[0m\u001b[1;33m:\u001b[0m\u001b[1;33m\u001b[0m\u001b[1;33m\u001b[0m\u001b[0m\n\u001b[1;32m--> 163\u001b[1;33m         \u001b[0mresult\u001b[0m \u001b[1;33m=\u001b[0m \u001b[0mfunc\u001b[0m\u001b[1;33m(\u001b[0m\u001b[0mleft\u001b[0m\u001b[1;33m,\u001b[0m \u001b[0mright\u001b[0m\u001b[1;33m)\u001b[0m\u001b[1;33m\u001b[0m\u001b[1;33m\u001b[0m\u001b[0m\n\u001b[0m\u001b[0;32m    164\u001b[0m     \u001b[1;32mexcept\u001b[0m \u001b[0mTypeError\u001b[0m\u001b[1;33m:\u001b[0m\u001b[1;33m\u001b[0m\u001b[1;33m\u001b[0m\u001b[0m\n",
      "\u001b[1;32m~\\anaconda3\\lib\\site-packages\\pandas\\core\\computation\\expressions.py\u001b[0m in \u001b[0;36mevaluate\u001b[1;34m(op, a, b, use_numexpr)\u001b[0m\n\u001b[0;32m    238\u001b[0m             \u001b[1;31m# error: \"None\" not callable\u001b[0m\u001b[1;33m\u001b[0m\u001b[1;33m\u001b[0m\u001b[0m\n\u001b[1;32m--> 239\u001b[1;33m             \u001b[1;32mreturn\u001b[0m \u001b[0m_evaluate\u001b[0m\u001b[1;33m(\u001b[0m\u001b[0mop\u001b[0m\u001b[1;33m,\u001b[0m \u001b[0mop_str\u001b[0m\u001b[1;33m,\u001b[0m \u001b[0ma\u001b[0m\u001b[1;33m,\u001b[0m \u001b[0mb\u001b[0m\u001b[1;33m)\u001b[0m  \u001b[1;31m# type: ignore[misc]\u001b[0m\u001b[1;33m\u001b[0m\u001b[1;33m\u001b[0m\u001b[0m\n\u001b[0m\u001b[0;32m    240\u001b[0m     \u001b[1;32mreturn\u001b[0m \u001b[0m_evaluate_standard\u001b[0m\u001b[1;33m(\u001b[0m\u001b[0mop\u001b[0m\u001b[1;33m,\u001b[0m \u001b[0mop_str\u001b[0m\u001b[1;33m,\u001b[0m \u001b[0ma\u001b[0m\u001b[1;33m,\u001b[0m \u001b[0mb\u001b[0m\u001b[1;33m)\u001b[0m\u001b[1;33m\u001b[0m\u001b[1;33m\u001b[0m\u001b[0m\n",
      "\u001b[1;32m~\\anaconda3\\lib\\site-packages\\pandas\\core\\computation\\expressions.py\u001b[0m in \u001b[0;36m_evaluate_numexpr\u001b[1;34m(op, op_str, a, b)\u001b[0m\n\u001b[0;32m    127\u001b[0m     \u001b[1;32mif\u001b[0m \u001b[0mresult\u001b[0m \u001b[1;32mis\u001b[0m \u001b[1;32mNone\u001b[0m\u001b[1;33m:\u001b[0m\u001b[1;33m\u001b[0m\u001b[1;33m\u001b[0m\u001b[0m\n\u001b[1;32m--> 128\u001b[1;33m         \u001b[0mresult\u001b[0m \u001b[1;33m=\u001b[0m \u001b[0m_evaluate_standard\u001b[0m\u001b[1;33m(\u001b[0m\u001b[0mop\u001b[0m\u001b[1;33m,\u001b[0m \u001b[0mop_str\u001b[0m\u001b[1;33m,\u001b[0m \u001b[0ma\u001b[0m\u001b[1;33m,\u001b[0m \u001b[0mb\u001b[0m\u001b[1;33m)\u001b[0m\u001b[1;33m\u001b[0m\u001b[1;33m\u001b[0m\u001b[0m\n\u001b[0m\u001b[0;32m    129\u001b[0m \u001b[1;33m\u001b[0m\u001b[0m\n",
      "\u001b[1;32m~\\anaconda3\\lib\\site-packages\\pandas\\core\\computation\\expressions.py\u001b[0m in \u001b[0;36m_evaluate_standard\u001b[1;34m(op, op_str, a, b)\u001b[0m\n\u001b[0;32m     68\u001b[0m         \u001b[0m_store_test_result\u001b[0m\u001b[1;33m(\u001b[0m\u001b[1;32mFalse\u001b[0m\u001b[1;33m)\u001b[0m\u001b[1;33m\u001b[0m\u001b[1;33m\u001b[0m\u001b[0m\n\u001b[1;32m---> 69\u001b[1;33m     \u001b[1;32mreturn\u001b[0m \u001b[0mop\u001b[0m\u001b[1;33m(\u001b[0m\u001b[0ma\u001b[0m\u001b[1;33m,\u001b[0m \u001b[0mb\u001b[0m\u001b[1;33m)\u001b[0m\u001b[1;33m\u001b[0m\u001b[1;33m\u001b[0m\u001b[0m\n\u001b[0m\u001b[0;32m     70\u001b[0m \u001b[1;33m\u001b[0m\u001b[0m\n",
      "\u001b[1;31mTypeError\u001b[0m: unsupported operand type(s) for /: 'str' and 'float'",
      "\nDuring handling of the above exception, another exception occurred:\n",
      "\u001b[1;31mTypeError\u001b[0m                                 Traceback (most recent call last)",
      "\u001b[1;32m~\\AppData\\Local\\Temp\\ipykernel_23956\\166583278.py\u001b[0m in \u001b[0;36m<module>\u001b[1;34m\u001b[0m\n\u001b[0;32m      3\u001b[0m \u001b[1;33m\u001b[0m\u001b[0m\n\u001b[0;32m      4\u001b[0m \u001b[1;31m# calculate the O:E ratio\u001b[0m\u001b[1;33m\u001b[0m\u001b[1;33m\u001b[0m\u001b[0m\n\u001b[1;32m----> 5\u001b[1;33m \u001b[0mdf\u001b[0m\u001b[1;33m[\u001b[0m\u001b[1;34m'o_e_ratio'\u001b[0m\u001b[1;33m]\u001b[0m \u001b[1;33m=\u001b[0m \u001b[0mdf\u001b[0m\u001b[1;33m[\u001b[0m\u001b[1;34m'DischargeDisposition'\u001b[0m\u001b[1;33m]\u001b[0m \u001b[1;33m/\u001b[0m \u001b[0mdf\u001b[0m\u001b[1;33m[\u001b[0m\u001b[1;34m'ExpectedMortality'\u001b[0m\u001b[1;33m]\u001b[0m\u001b[1;33m\u001b[0m\u001b[1;33m\u001b[0m\u001b[0m\n\u001b[0m\u001b[0;32m      6\u001b[0m \u001b[1;33m\u001b[0m\u001b[0m\n\u001b[0;32m      7\u001b[0m \u001b[1;31m# display the resulting DataFrame\u001b[0m\u001b[1;33m\u001b[0m\u001b[1;33m\u001b[0m\u001b[0m\n",
      "\u001b[1;32m~\\anaconda3\\lib\\site-packages\\pandas\\core\\ops\\common.py\u001b[0m in \u001b[0;36mnew_method\u001b[1;34m(self, other)\u001b[0m\n\u001b[0;32m     68\u001b[0m         \u001b[0mother\u001b[0m \u001b[1;33m=\u001b[0m \u001b[0mitem_from_zerodim\u001b[0m\u001b[1;33m(\u001b[0m\u001b[0mother\u001b[0m\u001b[1;33m)\u001b[0m\u001b[1;33m\u001b[0m\u001b[1;33m\u001b[0m\u001b[0m\n\u001b[0;32m     69\u001b[0m \u001b[1;33m\u001b[0m\u001b[0m\n\u001b[1;32m---> 70\u001b[1;33m         \u001b[1;32mreturn\u001b[0m \u001b[0mmethod\u001b[0m\u001b[1;33m(\u001b[0m\u001b[0mself\u001b[0m\u001b[1;33m,\u001b[0m \u001b[0mother\u001b[0m\u001b[1;33m)\u001b[0m\u001b[1;33m\u001b[0m\u001b[1;33m\u001b[0m\u001b[0m\n\u001b[0m\u001b[0;32m     71\u001b[0m \u001b[1;33m\u001b[0m\u001b[0m\n\u001b[0;32m     72\u001b[0m     \u001b[1;32mreturn\u001b[0m \u001b[0mnew_method\u001b[0m\u001b[1;33m\u001b[0m\u001b[1;33m\u001b[0m\u001b[0m\n",
      "\u001b[1;32m~\\anaconda3\\lib\\site-packages\\pandas\\core\\arraylike.py\u001b[0m in \u001b[0;36m__truediv__\u001b[1;34m(self, other)\u001b[0m\n\u001b[0;32m    122\u001b[0m     \u001b[1;33m@\u001b[0m\u001b[0munpack_zerodim_and_defer\u001b[0m\u001b[1;33m(\u001b[0m\u001b[1;34m\"__truediv__\"\u001b[0m\u001b[1;33m)\u001b[0m\u001b[1;33m\u001b[0m\u001b[1;33m\u001b[0m\u001b[0m\n\u001b[0;32m    123\u001b[0m     \u001b[1;32mdef\u001b[0m \u001b[0m__truediv__\u001b[0m\u001b[1;33m(\u001b[0m\u001b[0mself\u001b[0m\u001b[1;33m,\u001b[0m \u001b[0mother\u001b[0m\u001b[1;33m)\u001b[0m\u001b[1;33m:\u001b[0m\u001b[1;33m\u001b[0m\u001b[1;33m\u001b[0m\u001b[0m\n\u001b[1;32m--> 124\u001b[1;33m         \u001b[1;32mreturn\u001b[0m \u001b[0mself\u001b[0m\u001b[1;33m.\u001b[0m\u001b[0m_arith_method\u001b[0m\u001b[1;33m(\u001b[0m\u001b[0mother\u001b[0m\u001b[1;33m,\u001b[0m \u001b[0moperator\u001b[0m\u001b[1;33m.\u001b[0m\u001b[0mtruediv\u001b[0m\u001b[1;33m)\u001b[0m\u001b[1;33m\u001b[0m\u001b[1;33m\u001b[0m\u001b[0m\n\u001b[0m\u001b[0;32m    125\u001b[0m \u001b[1;33m\u001b[0m\u001b[0m\n\u001b[0;32m    126\u001b[0m     \u001b[1;33m@\u001b[0m\u001b[0munpack_zerodim_and_defer\u001b[0m\u001b[1;33m(\u001b[0m\u001b[1;34m\"__rtruediv__\"\u001b[0m\u001b[1;33m)\u001b[0m\u001b[1;33m\u001b[0m\u001b[1;33m\u001b[0m\u001b[0m\n",
      "\u001b[1;32m~\\anaconda3\\lib\\site-packages\\pandas\\core\\series.py\u001b[0m in \u001b[0;36m_arith_method\u001b[1;34m(self, other, op)\u001b[0m\n\u001b[0;32m   5637\u001b[0m     \u001b[1;32mdef\u001b[0m \u001b[0m_arith_method\u001b[0m\u001b[1;33m(\u001b[0m\u001b[0mself\u001b[0m\u001b[1;33m,\u001b[0m \u001b[0mother\u001b[0m\u001b[1;33m,\u001b[0m \u001b[0mop\u001b[0m\u001b[1;33m)\u001b[0m\u001b[1;33m:\u001b[0m\u001b[1;33m\u001b[0m\u001b[1;33m\u001b[0m\u001b[0m\n\u001b[0;32m   5638\u001b[0m         \u001b[0mself\u001b[0m\u001b[1;33m,\u001b[0m \u001b[0mother\u001b[0m \u001b[1;33m=\u001b[0m \u001b[0mops\u001b[0m\u001b[1;33m.\u001b[0m\u001b[0malign_method_SERIES\u001b[0m\u001b[1;33m(\u001b[0m\u001b[0mself\u001b[0m\u001b[1;33m,\u001b[0m \u001b[0mother\u001b[0m\u001b[1;33m)\u001b[0m\u001b[1;33m\u001b[0m\u001b[1;33m\u001b[0m\u001b[0m\n\u001b[1;32m-> 5639\u001b[1;33m         \u001b[1;32mreturn\u001b[0m \u001b[0mbase\u001b[0m\u001b[1;33m.\u001b[0m\u001b[0mIndexOpsMixin\u001b[0m\u001b[1;33m.\u001b[0m\u001b[0m_arith_method\u001b[0m\u001b[1;33m(\u001b[0m\u001b[0mself\u001b[0m\u001b[1;33m,\u001b[0m \u001b[0mother\u001b[0m\u001b[1;33m,\u001b[0m \u001b[0mop\u001b[0m\u001b[1;33m)\u001b[0m\u001b[1;33m\u001b[0m\u001b[1;33m\u001b[0m\u001b[0m\n\u001b[0m\u001b[0;32m   5640\u001b[0m \u001b[1;33m\u001b[0m\u001b[0m\n\u001b[0;32m   5641\u001b[0m \u001b[1;33m\u001b[0m\u001b[0m\n",
      "\u001b[1;32m~\\anaconda3\\lib\\site-packages\\pandas\\core\\base.py\u001b[0m in \u001b[0;36m_arith_method\u001b[1;34m(self, other, op)\u001b[0m\n\u001b[0;32m   1293\u001b[0m \u001b[1;33m\u001b[0m\u001b[0m\n\u001b[0;32m   1294\u001b[0m         \u001b[1;32mwith\u001b[0m \u001b[0mnp\u001b[0m\u001b[1;33m.\u001b[0m\u001b[0merrstate\u001b[0m\u001b[1;33m(\u001b[0m\u001b[0mall\u001b[0m\u001b[1;33m=\u001b[0m\u001b[1;34m\"ignore\"\u001b[0m\u001b[1;33m)\u001b[0m\u001b[1;33m:\u001b[0m\u001b[1;33m\u001b[0m\u001b[1;33m\u001b[0m\u001b[0m\n\u001b[1;32m-> 1295\u001b[1;33m             \u001b[0mresult\u001b[0m \u001b[1;33m=\u001b[0m \u001b[0mops\u001b[0m\u001b[1;33m.\u001b[0m\u001b[0marithmetic_op\u001b[0m\u001b[1;33m(\u001b[0m\u001b[0mlvalues\u001b[0m\u001b[1;33m,\u001b[0m \u001b[0mrvalues\u001b[0m\u001b[1;33m,\u001b[0m \u001b[0mop\u001b[0m\u001b[1;33m)\u001b[0m\u001b[1;33m\u001b[0m\u001b[1;33m\u001b[0m\u001b[0m\n\u001b[0m\u001b[0;32m   1296\u001b[0m \u001b[1;33m\u001b[0m\u001b[0m\n\u001b[0;32m   1297\u001b[0m         \u001b[1;32mreturn\u001b[0m \u001b[0mself\u001b[0m\u001b[1;33m.\u001b[0m\u001b[0m_construct_result\u001b[0m\u001b[1;33m(\u001b[0m\u001b[0mresult\u001b[0m\u001b[1;33m,\u001b[0m \u001b[0mname\u001b[0m\u001b[1;33m=\u001b[0m\u001b[0mres_name\u001b[0m\u001b[1;33m)\u001b[0m\u001b[1;33m\u001b[0m\u001b[1;33m\u001b[0m\u001b[0m\n",
      "\u001b[1;32m~\\anaconda3\\lib\\site-packages\\pandas\\core\\ops\\array_ops.py\u001b[0m in \u001b[0;36marithmetic_op\u001b[1;34m(left, right, op)\u001b[0m\n\u001b[0;32m    220\u001b[0m         \u001b[0m_bool_arith_check\u001b[0m\u001b[1;33m(\u001b[0m\u001b[0mop\u001b[0m\u001b[1;33m,\u001b[0m \u001b[0mleft\u001b[0m\u001b[1;33m,\u001b[0m \u001b[0mright\u001b[0m\u001b[1;33m)\u001b[0m\u001b[1;33m\u001b[0m\u001b[1;33m\u001b[0m\u001b[0m\n\u001b[0;32m    221\u001b[0m \u001b[1;33m\u001b[0m\u001b[0m\n\u001b[1;32m--> 222\u001b[1;33m         \u001b[0mres_values\u001b[0m \u001b[1;33m=\u001b[0m \u001b[0m_na_arithmetic_op\u001b[0m\u001b[1;33m(\u001b[0m\u001b[0mleft\u001b[0m\u001b[1;33m,\u001b[0m \u001b[0mright\u001b[0m\u001b[1;33m,\u001b[0m \u001b[0mop\u001b[0m\u001b[1;33m)\u001b[0m\u001b[1;33m\u001b[0m\u001b[1;33m\u001b[0m\u001b[0m\n\u001b[0m\u001b[0;32m    223\u001b[0m \u001b[1;33m\u001b[0m\u001b[0m\n\u001b[0;32m    224\u001b[0m     \u001b[1;32mreturn\u001b[0m \u001b[0mres_values\u001b[0m\u001b[1;33m\u001b[0m\u001b[1;33m\u001b[0m\u001b[0m\n",
      "\u001b[1;32m~\\anaconda3\\lib\\site-packages\\pandas\\core\\ops\\array_ops.py\u001b[0m in \u001b[0;36m_na_arithmetic_op\u001b[1;34m(left, right, op, is_cmp)\u001b[0m\n\u001b[0;32m    168\u001b[0m             \u001b[1;31m# Don't do this for comparisons, as that will handle complex numbers\u001b[0m\u001b[1;33m\u001b[0m\u001b[1;33m\u001b[0m\u001b[0m\n\u001b[0;32m    169\u001b[0m             \u001b[1;31m#  incorrectly, see GH#32047\u001b[0m\u001b[1;33m\u001b[0m\u001b[1;33m\u001b[0m\u001b[0m\n\u001b[1;32m--> 170\u001b[1;33m             \u001b[0mresult\u001b[0m \u001b[1;33m=\u001b[0m \u001b[0m_masked_arith_op\u001b[0m\u001b[1;33m(\u001b[0m\u001b[0mleft\u001b[0m\u001b[1;33m,\u001b[0m \u001b[0mright\u001b[0m\u001b[1;33m,\u001b[0m \u001b[0mop\u001b[0m\u001b[1;33m)\u001b[0m\u001b[1;33m\u001b[0m\u001b[1;33m\u001b[0m\u001b[0m\n\u001b[0m\u001b[0;32m    171\u001b[0m         \u001b[1;32melse\u001b[0m\u001b[1;33m:\u001b[0m\u001b[1;33m\u001b[0m\u001b[1;33m\u001b[0m\u001b[0m\n\u001b[0;32m    172\u001b[0m             \u001b[1;32mraise\u001b[0m\u001b[1;33m\u001b[0m\u001b[1;33m\u001b[0m\u001b[0m\n",
      "\u001b[1;32m~\\anaconda3\\lib\\site-packages\\pandas\\core\\ops\\array_ops.py\u001b[0m in \u001b[0;36m_masked_arith_op\u001b[1;34m(x, y, op)\u001b[0m\n\u001b[0;32m    106\u001b[0m         \u001b[1;31m# See GH#5284, GH#5035, GH#19448 for historical reference\u001b[0m\u001b[1;33m\u001b[0m\u001b[1;33m\u001b[0m\u001b[0m\n\u001b[0;32m    107\u001b[0m         \u001b[1;32mif\u001b[0m \u001b[0mmask\u001b[0m\u001b[1;33m.\u001b[0m\u001b[0many\u001b[0m\u001b[1;33m(\u001b[0m\u001b[1;33m)\u001b[0m\u001b[1;33m:\u001b[0m\u001b[1;33m\u001b[0m\u001b[1;33m\u001b[0m\u001b[0m\n\u001b[1;32m--> 108\u001b[1;33m             \u001b[0mresult\u001b[0m\u001b[1;33m[\u001b[0m\u001b[0mmask\u001b[0m\u001b[1;33m]\u001b[0m \u001b[1;33m=\u001b[0m \u001b[0mop\u001b[0m\u001b[1;33m(\u001b[0m\u001b[0mxrav\u001b[0m\u001b[1;33m[\u001b[0m\u001b[0mmask\u001b[0m\u001b[1;33m]\u001b[0m\u001b[1;33m,\u001b[0m \u001b[0myrav\u001b[0m\u001b[1;33m[\u001b[0m\u001b[0mmask\u001b[0m\u001b[1;33m]\u001b[0m\u001b[1;33m)\u001b[0m\u001b[1;33m\u001b[0m\u001b[1;33m\u001b[0m\u001b[0m\n\u001b[0m\u001b[0;32m    109\u001b[0m \u001b[1;33m\u001b[0m\u001b[0m\n\u001b[0;32m    110\u001b[0m     \u001b[1;32melse\u001b[0m\u001b[1;33m:\u001b[0m\u001b[1;33m\u001b[0m\u001b[1;33m\u001b[0m\u001b[0m\n",
      "\u001b[1;31mTypeError\u001b[0m: unsupported operand type(s) for /: 'str' and 'float'"
     ]
    }
   ],
   "source": [
    "df = pd.read_excel('HospitalDatabase.xlsx','Discharges')\n",
    "df = pd.DataFrame(df, columns=['DischargeDisposition','ExpectedMortality','PatientID'])\n",
    "\n",
    "# calculate the O:E ratio\n",
    "df['o_e_ratio'] = df['DischargeDisposition'] / df['ExpectedMortality']\n",
    "\n",
    "# display the resulting DataFrame\n",
    "print(df)\n"
   ]
  },
  {
   "cell_type": "markdown",
   "id": "8d5c042f",
   "metadata": {},
   "source": [
    "# 77.Plot a graph to count the patients based on discharge disposition."
   ]
  },
  {
   "cell_type": "code",
   "execution_count": 47,
   "id": "7f89e837",
   "metadata": {},
   "outputs": [
    {
     "data": {
      "image/png": "[encoded data removed]",
      "text/plain": [
       "<Figure size 640x480 with 1 Axes>"
      ]
     },
     "metadata": {},
     "output_type": "display_data"
    }
   ],
   "source": [
    "df = pd.read_excel('HospitalDatabase.xlsx','Discharges')\n",
    "df = pd.DataFrame(df, columns=['DischargeDisposition','PatientID'])\n",
    "sns.countplot(x ='DischargeDisposition', data = df)\n",
    "plt.show()"
   ]
  },
  {
   "cell_type": "markdown",
   "id": "899e4d92",
   "metadata": {},
   "source": [
    "# 78.Display total count of patients service wise based on gender."
   ]
  },
  {
   "cell_type": "code",
   "execution_count": 180,
   "id": "fa5de353",
   "metadata": {},
   "outputs": [
    {
     "name": "stdout",
     "output_type": "stream",
     "text": [
      "Service           Gender\n",
      "Cardiology        Male       54\n",
      "                  Female     41\n",
      "General Medicine  Male      149\n",
      "                  Female    114\n",
      "Hospitalist       Male       66\n",
      "                  Female     35\n",
      "ICU               Male       86\n",
      "                  Female     65\n",
      "Neurology         Female     34\n",
      "                  Male       31\n",
      "Orthopeadics      Male       23\n",
      "                  Female     22\n",
      "Name: Gender, dtype: int64\n"
     ]
    }
   ],
   "source": [
    "df1 = pd.read_excel('HospitalDatabase.xlsx','Patients')\n",
    "df2 = pd.read_excel('HospitalDatabase.xlsx','ReAdmissionRegistry')\n",
    "df = pd.merge(df1, df2, on='PatientID')\n",
    "df = df.groupby(['Service']).Gender.value_counts()\n",
    "print (df)"
   ]
  },
  {
   "cell_type": "markdown",
   "id": "3f87dcbd",
   "metadata": {},
   "source": [
    "# 79.Create a pivot table displaying average LOS based on Service and Primary Diagnosis."
   ]
  },
  {
   "cell_type": "code",
   "execution_count": 151,
   "id": "116c98ec",
   "metadata": {},
   "outputs": [
    {
     "name": "stdout",
     "output_type": "stream",
     "text": [
      "                                     ExpectedLOS\n",
      "Service          PrimaryDiagnosis               \n",
      "Cardiology       AMI                   12.414202\n",
      "                 Afib                  13.162920\n",
      "                 Broken Leg             3.911826\n",
      "                 Flu                    3.970428\n",
      "                 Heart Failure         13.014044\n",
      "                 Kidney Failure         6.580273\n",
      "General Medicine Broken Leg             3.368132\n",
      "                 Diabetes               5.665298\n",
      "                 Fever                  6.803796\n",
      "                 Flu                    6.141753\n",
      "                 Hypertension           5.369365\n",
      "                 Kidney Failure         5.943163\n",
      "                 Laceration             6.771154\n",
      "                 Pneumonia              6.140270\n",
      "                 Stroke                 7.173333\n",
      "Hospitalist      AMI                   13.828290\n",
      "                 Broken Leg             7.125069\n",
      "                 Diabetes               7.874359\n",
      "                 Fever                  8.865651\n",
      "                 Flu                    7.033979\n",
      "                 Hypertension           7.864913\n",
      "                 Kidney Failure         7.850346\n",
      "                 Knee Replacement       2.255705\n",
      "                 Laceration             7.069360\n",
      "                 Pneumonia              8.146240\n",
      "                 Stroke                15.349671\n",
      "ICU              AMI                   12.503213\n",
      "                 Afib                   9.651522\n",
      "                 Fever                  3.860693\n",
      "                 Flu                    4.953871\n",
      "                 Heart Failure         12.784620\n",
      "                 Hypertension           5.092533\n",
      "                 Kidney Failure         9.045995\n",
      "                 Laceration            10.101443\n",
      "                 Pneumonia             13.523626\n",
      "                 Spinal Cord Injury    15.276540\n",
      "                 Stroke                13.297978\n",
      "Neurology        AMI                   10.482847\n",
      "                 Flu                    6.700593\n",
      "                 Heart Failure         12.737565\n",
      "                 Hypertension           4.276454\n",
      "                 Migraine              12.202213\n",
      "                 Pain                  11.441453\n",
      "                 Pneumonia              7.527330\n",
      "                 Stroke                12.745608\n",
      "Orthopeadics     Hip Fracture           3.474971\n",
      "                 Knee Replacement       3.702839\n"
     ]
    }
   ],
   "source": [
    "df=pd.read_excel('HospitalDatabase.xlsx','ReAdmissionRegistry')\n",
    "pivot = df.pivot_table(index=['Service','PrimaryDiagnosis'],\n",
    "                    values=['ExpectedLOS'],\n",
    "                    aggfunc='mean')\n",
    "print(pivot)"
   ]
  },
  {
   "cell_type": "markdown",
   "id": "ffe46b11",
   "metadata": {},
   "source": [
    "# 80.Display the data for all 'White Female' patients above the age of 50."
   ]
  },
  {
   "cell_type": "code",
   "execution_count": 179,
   "id": "81127c4c",
   "metadata": {},
   "outputs": [
    {
     "name": "stdout",
     "output_type": "stream",
     "text": [
      "Count of White Female patients above the age of 50 is:117\n"
     ]
    }
   ],
   "source": [
    "df = pd.read_excel('HospitalDatabase.xlsx','Patients')\n",
    "#calculate Age\n",
    "df['Age']=(now - df['DateOfBirth']).astype('<m8[Y]') \n",
    "rs_df = df[(df['Race'] == 'White') & (df['Gender']=='Female') & (df['Age'] > 50)]\n",
    "print(\"Count of White Female patients above the age of 50 is:\"+str(len(rs_df)))"
   ]
  },
  {
   "cell_type": "code",
   "execution_count": null,
   "id": "cdff2114",
   "metadata": {},
   "outputs": [],
   "source": []
  }
 ],
 "metadata": {
  "kernelspec": {
   "display_name": "Python 3 (ipykernel)",
   "language": "python",
   "name": "python3"
  },
  "language_info": {
   "codemirror_mode": {
    "name": "ipython",
    "version": 3
   },
   "file_extension": ".py",
   "mimetype": "text/x-python",
   "name": "python",
   "nbconvert_exporter": "python",
   "pygments_lexer": "ipython3",
   "version": "3.9.13"
  }
 },
 "nbformat": 4,
 "nbformat_minor": 5
}
