{
 "cells": [
  {
   "cell_type": "code",
   "execution_count": 1,
   "id": "fd6be7b5",
   "metadata": {},
   "outputs": [
    {
     "name": "stdout",
     "output_type": "stream",
     "text": [
      "Requirement already satisfied: panda in /Users/shub/opt/anaconda3/lib/python3.9/site-packages (0.3.1)\n",
      "Requirement already satisfied: requests in /Users/shub/opt/anaconda3/lib/python3.9/site-packages (from panda) (2.28.1)\n",
      "Requirement already satisfied: setuptools in /Users/shub/opt/anaconda3/lib/python3.9/site-packages (from panda) (63.4.1)\n",
      "Requirement already satisfied: charset-normalizer<3,>=2 in /Users/shub/opt/anaconda3/lib/python3.9/site-packages (from requests->panda) (2.0.4)\n",
      "Requirement already satisfied: urllib3<1.27,>=1.21.1 in /Users/shub/opt/anaconda3/lib/python3.9/site-packages (from requests->panda) (1.26.11)\n",
      "Requirement already satisfied: idna<4,>=2.5 in /Users/shub/opt/anaconda3/lib/python3.9/site-packages (from requests->panda) (3.3)\n",
      "Requirement already satisfied: certifi>=2017.4.17 in /Users/shub/opt/anaconda3/lib/python3.9/site-packages (from requests->panda) (2022.9.24)\n",
      "Note: you may need to restart the kernel to use updated packages.\n"
     ]
    }
   ],
   "source": [
    "pip install panda"
   ]
  },
  {
   "cell_type": "code",
   "execution_count": 3,
   "id": "f8a08c5f",
   "metadata": {},
   "outputs": [],
   "source": [
    "import numpy as np\n",
    "import pandas as pd\n",
    "import matplotlib.pyplot as plt\n",
    "import seaborn as sns\n",
    "from datetime import datetime as dt , date"
   ]
  },
  {
   "cell_type": "code",
   "execution_count": 9,
   "id": "6c27045b",
   "metadata": {},
   "outputs": [
    {
     "data": {
      "text/html": [
       "<div>\n",
       "<style scoped>\n",
       "    .dataframe tbody tr th:only-of-type {\n",
       "        vertical-align: middle;\n",
       "    }\n",
       "\n",
       "    .dataframe tbody tr th {\n",
       "        vertical-align: top;\n",
       "    }\n",
       "\n",
       "    .dataframe thead th {\n",
       "        text-align: right;\n",
       "    }\n",
       "</style>\n",
       "<table border=\"1\" class=\"dataframe\">\n",
       "  <thead>\n",
       "    <tr style=\"text-align: right;\">\n",
       "      <th></th>\n",
       "      <th>PatientID</th>\n",
       "      <th>FirstName</th>\n",
       "      <th>LastName</th>\n",
       "      <th>DateOfBirth</th>\n",
       "      <th>Gender</th>\n",
       "      <th>Race</th>\n",
       "      <th>Language</th>\n",
       "    </tr>\n",
       "  </thead>\n",
       "  <tbody>\n",
       "    <tr>\n",
       "      <th>940</th>\n",
       "      <td>941</td>\n",
       "      <td>Wat</td>\n",
       "      <td>Fideler</td>\n",
       "      <td>1986-05-26 00:01:19.761</td>\n",
       "      <td>Male</td>\n",
       "      <td>Black/African-American</td>\n",
       "      <td>English</td>\n",
       "    </tr>\n",
       "    <tr>\n",
       "      <th>941</th>\n",
       "      <td>942</td>\n",
       "      <td>Wandie</td>\n",
       "      <td>Baythrop</td>\n",
       "      <td>1970-06-10 21:41:03.814</td>\n",
       "      <td>Male</td>\n",
       "      <td>Black/African-American</td>\n",
       "      <td>English</td>\n",
       "    </tr>\n",
       "    <tr>\n",
       "      <th>942</th>\n",
       "      <td>943</td>\n",
       "      <td>Diahann</td>\n",
       "      <td>Smeeton</td>\n",
       "      <td>1983-01-08 21:49:27.884</td>\n",
       "      <td>Male</td>\n",
       "      <td>Black/African-American</td>\n",
       "      <td>English</td>\n",
       "    </tr>\n",
       "    <tr>\n",
       "      <th>943</th>\n",
       "      <td>944</td>\n",
       "      <td>Panchito</td>\n",
       "      <td>Sharple</td>\n",
       "      <td>1963-06-05 07:57:05.569</td>\n",
       "      <td>Male</td>\n",
       "      <td>Black/African-American</td>\n",
       "      <td>English</td>\n",
       "    </tr>\n",
       "    <tr>\n",
       "      <th>944</th>\n",
       "      <td>945</td>\n",
       "      <td>Walsh</td>\n",
       "      <td>Calvie</td>\n",
       "      <td>1972-08-06 03:40:03.454</td>\n",
       "      <td>Male</td>\n",
       "      <td>Black/African-American</td>\n",
       "      <td>English</td>\n",
       "    </tr>\n",
       "  </tbody>\n",
       "</table>\n",
       "</div>"
      ],
      "text/plain": [
       "     PatientID FirstName  LastName             DateOfBirth Gender  \\\n",
       "940        941       Wat   Fideler 1986-05-26 00:01:19.761   Male   \n",
       "941        942    Wandie  Baythrop 1970-06-10 21:41:03.814   Male   \n",
       "942        943   Diahann   Smeeton 1983-01-08 21:49:27.884   Male   \n",
       "943        944  Panchito   Sharple 1963-06-05 07:57:05.569   Male   \n",
       "944        945     Walsh    Calvie 1972-08-06 03:40:03.454   Male   \n",
       "\n",
       "                       Race Language  \n",
       "940  Black/African-American  English  \n",
       "941  Black/African-American  English  \n",
       "942  Black/African-American  English  \n",
       "943  Black/African-American  English  \n",
       "944  Black/African-American  English  "
      ]
     },
     "execution_count": 9,
     "metadata": {},
     "output_type": "execute_result"
    }
   ],
   "source": [
    "hospital_data = pd.read_excel('HospitalDatabase.xlsx')\n",
    "hospital_data.tail()"
   ]
  },
  {
   "cell_type": "code",
   "execution_count": 17,
   "id": "3daedf50",
   "metadata": {},
   "outputs": [
    {
     "data": {
      "text/html": [
       "<div>\n",
       "<style scoped>\n",
       "    .dataframe tbody tr th:only-of-type {\n",
       "        vertical-align: middle;\n",
       "    }\n",
       "\n",
       "    .dataframe tbody tr th {\n",
       "        vertical-align: top;\n",
       "    }\n",
       "\n",
       "    .dataframe thead th {\n",
       "        text-align: right;\n",
       "    }\n",
       "</style>\n",
       "<table border=\"1\" class=\"dataframe\">\n",
       "  <thead>\n",
       "    <tr style=\"text-align: right;\">\n",
       "      <th></th>\n",
       "      <th>PatientID</th>\n",
       "      <th>FirstName</th>\n",
       "      <th>LastName</th>\n",
       "      <th>DateOfBirth</th>\n",
       "      <th>Gender</th>\n",
       "      <th>Race</th>\n",
       "      <th>Language</th>\n",
       "    </tr>\n",
       "  </thead>\n",
       "  <tbody>\n",
       "    <tr>\n",
       "      <th>0</th>\n",
       "      <td>1</td>\n",
       "      <td>Lanni</td>\n",
       "      <td>Sue</td>\n",
       "      <td>1960-01-01 00:00:00.000</td>\n",
       "      <td>Male</td>\n",
       "      <td>White</td>\n",
       "      <td>English</td>\n",
       "    </tr>\n",
       "    <tr>\n",
       "      <th>1</th>\n",
       "      <td>2</td>\n",
       "      <td>Far</td>\n",
       "      <td>Myers</td>\n",
       "      <td>1985-11-15 02:08:42.090</td>\n",
       "      <td>Male</td>\n",
       "      <td>White</td>\n",
       "      <td>English</td>\n",
       "    </tr>\n",
       "    <tr>\n",
       "      <th>2</th>\n",
       "      <td>3</td>\n",
       "      <td>Devlin</td>\n",
       "      <td>Michael</td>\n",
       "      <td>1976-04-15 02:52:09.762</td>\n",
       "      <td>Male</td>\n",
       "      <td>White</td>\n",
       "      <td>English</td>\n",
       "    </tr>\n",
       "    <tr>\n",
       "      <th>3</th>\n",
       "      <td>4</td>\n",
       "      <td>Carmine</td>\n",
       "      <td>Texas</td>\n",
       "      <td>1968-10-15 03:32:13.635</td>\n",
       "      <td>Male</td>\n",
       "      <td>White</td>\n",
       "      <td>English</td>\n",
       "    </tr>\n",
       "    <tr>\n",
       "      <th>4</th>\n",
       "      <td>5</td>\n",
       "      <td>Tann</td>\n",
       "      <td>Bama</td>\n",
       "      <td>1962-05-01 19:12:58.950</td>\n",
       "      <td>Male</td>\n",
       "      <td>White</td>\n",
       "      <td>English</td>\n",
       "    </tr>\n",
       "  </tbody>\n",
       "</table>\n",
       "</div>"
      ],
      "text/plain": [
       "   PatientID FirstName LastName             DateOfBirth Gender   Race Language\n",
       "0          1     Lanni      Sue 1960-01-01 00:00:00.000   Male  White  English\n",
       "1          2       Far    Myers 1985-11-15 02:08:42.090   Male  White  English\n",
       "2          3   Devlin   Michael 1976-04-15 02:52:09.762   Male  White  English\n",
       "3          4   Carmine    Texas 1968-10-15 03:32:13.635   Male  White  English\n",
       "4          5     Tann      Bama 1962-05-01 19:12:58.950   Male  White  English"
      ]
     },
     "execution_count": 17,
     "metadata": {},
     "output_type": "execute_result"
    }
   ],
   "source": [
    "hospital_data = pd.read_excel('HospitalDatabase.xlsx','Patients')\n",
    "hospital_data.head()"
   ]
  },
  {
   "cell_type": "markdown",
   "id": "91564ef4",
   "metadata": {},
   "source": [
    "# 21.Which reason of visit has maximum mortality rate."
   ]
  },
  {
   "cell_type": "code",
   "execution_count": 25,
   "id": "24b3181d",
   "metadata": {},
   "outputs": [],
   "source": [
    "df = pd.read_excel(\"HospitalDatabase.xlsx\", sheet_name=[\"Patients\",\"EDVisits\",\"AmbulatoryVisits\",\"ReAdmissionRegistry\",\"Discharges\",\"Providers\",\"EDUnique\"])"
   ]
  },
  {
   "cell_type": "code",
   "execution_count": 26,
   "id": "b5b9ffcd",
   "metadata": {},
   "outputs": [],
   "source": [
    "#dataframes used \n",
    "readmission_reg=df['ReAdmissionRegistry']\n",
    "EDuniq=df['EDUnique']"
   ]
  },
  {
   "cell_type": "code",
   "execution_count": 27,
   "id": "27d100dc",
   "metadata": {
    "scrolled": false
   },
   "outputs": [
    {
     "data": {
      "text/html": [
       "<div>\n",
       "<style scoped>\n",
       "    .dataframe tbody tr th:only-of-type {\n",
       "        vertical-align: middle;\n",
       "    }\n",
       "\n",
       "    .dataframe tbody tr th {\n",
       "        vertical-align: top;\n",
       "    }\n",
       "\n",
       "    .dataframe thead th {\n",
       "        text-align: right;\n",
       "    }\n",
       "</style>\n",
       "<table border=\"1\" class=\"dataframe\">\n",
       "  <thead>\n",
       "    <tr style=\"text-align: right;\">\n",
       "      <th></th>\n",
       "      <th>AdmissionID</th>\n",
       "      <th>PatientID</th>\n",
       "      <th>AdmissionDate</th>\n",
       "      <th>DischargeDate</th>\n",
       "      <th>DischargeDisposition</th>\n",
       "      <th>Service</th>\n",
       "      <th>PrimaryDiagnosis</th>\n",
       "      <th>ExpectedLOS</th>\n",
       "      <th>ExpectedMortality</th>\n",
       "      <th>ReadmissionFlag</th>\n",
       "      <th>DaysToReadmission</th>\n",
       "      <th>EDVisitAfterDischargeFlag</th>\n",
       "      <th>EDVisitID</th>\n",
       "      <th>VisitDate</th>\n",
       "      <th>EDDischargeTime</th>\n",
       "      <th>Acuity</th>\n",
       "      <th>ReasonForVisit</th>\n",
       "      <th>EDDisposition</th>\n",
       "    </tr>\n",
       "  </thead>\n",
       "  <tbody>\n",
       "    <tr>\n",
       "      <th>0</th>\n",
       "      <td>389</td>\n",
       "      <td>1</td>\n",
       "      <td>2018-01-01</td>\n",
       "      <td>2018-01-04 19:59:31.391</td>\n",
       "      <td>Home</td>\n",
       "      <td>Hospitalist</td>\n",
       "      <td>Kidney Failure</td>\n",
       "      <td>6.717771</td>\n",
       "      <td>0.010046</td>\n",
       "      <td>NaN</td>\n",
       "      <td>NaN</td>\n",
       "      <td>NaN</td>\n",
       "      <td>1</td>\n",
       "      <td>2020-01-01 00:00:00.000</td>\n",
       "      <td>2020-01-01 11:20:22.924</td>\n",
       "      <td>1</td>\n",
       "      <td>Stomach Ache</td>\n",
       "      <td>Admitted</td>\n",
       "    </tr>\n",
       "    <tr>\n",
       "      <th>1</th>\n",
       "      <td>635</td>\n",
       "      <td>2</td>\n",
       "      <td>2018-01-01</td>\n",
       "      <td>2018-01-04 21:28:51.898</td>\n",
       "      <td>Home</td>\n",
       "      <td>General Medicine</td>\n",
       "      <td>Flu</td>\n",
       "      <td>3.825969</td>\n",
       "      <td>0.604562</td>\n",
       "      <td>1.0</td>\n",
       "      <td>2.0</td>\n",
       "      <td>1.0</td>\n",
       "      <td>2</td>\n",
       "      <td>2020-01-01 00:00:40.339</td>\n",
       "      <td>2020-01-01 11:46:34.398</td>\n",
       "      <td>1</td>\n",
       "      <td>Migraine</td>\n",
       "      <td>Discharged</td>\n",
       "    </tr>\n",
       "    <tr>\n",
       "      <th>2</th>\n",
       "      <td>606</td>\n",
       "      <td>3</td>\n",
       "      <td>2018-01-01</td>\n",
       "      <td>2018-01-04 22:28:23.672</td>\n",
       "      <td>Home</td>\n",
       "      <td>General Medicine</td>\n",
       "      <td>Flu</td>\n",
       "      <td>3.382493</td>\n",
       "      <td>0.266137</td>\n",
       "      <td>1.0</td>\n",
       "      <td>3.0</td>\n",
       "      <td>1.0</td>\n",
       "      <td>55</td>\n",
       "      <td>2020-01-01 15:01:29.846</td>\n",
       "      <td>2020-01-01 23:11:53.864</td>\n",
       "      <td>3</td>\n",
       "      <td>Migraine</td>\n",
       "      <td>admitted</td>\n",
       "    </tr>\n",
       "    <tr>\n",
       "      <th>3</th>\n",
       "      <td>587</td>\n",
       "      <td>5</td>\n",
       "      <td>2018-01-01</td>\n",
       "      <td>2018-01-05 05:47:04.933</td>\n",
       "      <td>Home</td>\n",
       "      <td>General Medicine</td>\n",
       "      <td>Flu</td>\n",
       "      <td>3.763352</td>\n",
       "      <td>0.307527</td>\n",
       "      <td>1.0</td>\n",
       "      <td>4.0</td>\n",
       "      <td>1.0</td>\n",
       "      <td>5</td>\n",
       "      <td>2020-01-01 00:38:15.540</td>\n",
       "      <td>2020-01-01 13:19:43.485</td>\n",
       "      <td>1</td>\n",
       "      <td>Fever</td>\n",
       "      <td>Discharged</td>\n",
       "    </tr>\n",
       "    <tr>\n",
       "      <th>4</th>\n",
       "      <td>640</td>\n",
       "      <td>6</td>\n",
       "      <td>2018-01-01</td>\n",
       "      <td>2018-01-05 14:18:30.029</td>\n",
       "      <td>Home</td>\n",
       "      <td>ICU</td>\n",
       "      <td>Heart Failure</td>\n",
       "      <td>13.650953</td>\n",
       "      <td>0.408898</td>\n",
       "      <td>NaN</td>\n",
       "      <td>NaN</td>\n",
       "      <td>NaN</td>\n",
       "      <td>6</td>\n",
       "      <td>2020-01-01 00:39:22.945</td>\n",
       "      <td>2020-01-01 05:16:35.323</td>\n",
       "      <td>1</td>\n",
       "      <td>Fever</td>\n",
       "      <td>Discharged</td>\n",
       "    </tr>\n",
       "  </tbody>\n",
       "</table>\n",
       "</div>"
      ],
      "text/plain": [
       "   AdmissionID  PatientID AdmissionDate           DischargeDate  \\\n",
       "0          389          1    2018-01-01 2018-01-04 19:59:31.391   \n",
       "1          635          2    2018-01-01 2018-01-04 21:28:51.898   \n",
       "2          606          3    2018-01-01 2018-01-04 22:28:23.672   \n",
       "3          587          5    2018-01-01 2018-01-05 05:47:04.933   \n",
       "4          640          6    2018-01-01 2018-01-05 14:18:30.029   \n",
       "\n",
       "  DischargeDisposition           Service PrimaryDiagnosis  ExpectedLOS  \\\n",
       "0                 Home       Hospitalist   Kidney Failure     6.717771   \n",
       "1                 Home  General Medicine              Flu     3.825969   \n",
       "2                 Home  General Medicine              Flu     3.382493   \n",
       "3                 Home  General Medicine              Flu     3.763352   \n",
       "4                 Home               ICU    Heart Failure    13.650953   \n",
       "\n",
       "   ExpectedMortality  ReadmissionFlag  DaysToReadmission  \\\n",
       "0           0.010046              NaN                NaN   \n",
       "1           0.604562              1.0                2.0   \n",
       "2           0.266137              1.0                3.0   \n",
       "3           0.307527              1.0                4.0   \n",
       "4           0.408898              NaN                NaN   \n",
       "\n",
       "   EDVisitAfterDischargeFlag  EDVisitID               VisitDate  \\\n",
       "0                        NaN          1 2020-01-01 00:00:00.000   \n",
       "1                        1.0          2 2020-01-01 00:00:40.339   \n",
       "2                        1.0         55 2020-01-01 15:01:29.846   \n",
       "3                        1.0          5 2020-01-01 00:38:15.540   \n",
       "4                        NaN          6 2020-01-01 00:39:22.945   \n",
       "\n",
       "          EDDischargeTime  Acuity ReasonForVisit EDDisposition  \n",
       "0 2020-01-01 11:20:22.924       1   Stomach Ache      Admitted  \n",
       "1 2020-01-01 11:46:34.398       1       Migraine    Discharged  \n",
       "2 2020-01-01 23:11:53.864       3       Migraine      admitted  \n",
       "3 2020-01-01 13:19:43.485       1          Fever    Discharged  \n",
       "4 2020-01-01 05:16:35.323       1          Fever    Discharged  "
      ]
     },
     "execution_count": 27,
     "metadata": {},
     "output_type": "execute_result"
    }
   ],
   "source": [
    "#joining the dataframes\n",
    "df_inner= pd.merge(readmission_reg,EDuniq, on='PatientID', how='inner')\n",
    "type(df_inner)\n",
    "df_inner.head()"
   ]
  },
  {
   "cell_type": "code",
   "execution_count": 28,
   "id": "52090f24",
   "metadata": {},
   "outputs": [],
   "source": [
    "#Grouping the data where dischargedisposition is \"Expired\""
   ]
  },
  {
   "cell_type": "code",
   "execution_count": 29,
   "id": "21144bd0",
   "metadata": {},
   "outputs": [
    {
     "data": {
      "text/html": [
       "<div>\n",
       "<style scoped>\n",
       "    .dataframe tbody tr th:only-of-type {\n",
       "        vertical-align: middle;\n",
       "    }\n",
       "\n",
       "    .dataframe tbody tr th {\n",
       "        vertical-align: top;\n",
       "    }\n",
       "\n",
       "    .dataframe thead th {\n",
       "        text-align: right;\n",
       "    }\n",
       "</style>\n",
       "<table border=\"1\" class=\"dataframe\">\n",
       "  <thead>\n",
       "    <tr style=\"text-align: right;\">\n",
       "      <th></th>\n",
       "      <th>AdmissionID</th>\n",
       "      <th>PatientID</th>\n",
       "      <th>AdmissionDate</th>\n",
       "      <th>DischargeDate</th>\n",
       "      <th>DischargeDisposition</th>\n",
       "      <th>Service</th>\n",
       "      <th>PrimaryDiagnosis</th>\n",
       "      <th>ExpectedLOS</th>\n",
       "      <th>ExpectedMortality</th>\n",
       "      <th>ReadmissionFlag</th>\n",
       "      <th>DaysToReadmission</th>\n",
       "      <th>EDVisitAfterDischargeFlag</th>\n",
       "      <th>EDVisitID</th>\n",
       "      <th>VisitDate</th>\n",
       "      <th>EDDischargeTime</th>\n",
       "      <th>Acuity</th>\n",
       "      <th>ReasonForVisit</th>\n",
       "      <th>EDDisposition</th>\n",
       "    </tr>\n",
       "  </thead>\n",
       "  <tbody>\n",
       "    <tr>\n",
       "      <th>7</th>\n",
       "      <td>1</td>\n",
       "      <td>9</td>\n",
       "      <td>2018-01-01</td>\n",
       "      <td>2018-01-07 18:06:06.408</td>\n",
       "      <td>Expired</td>\n",
       "      <td>Cardiology</td>\n",
       "      <td>AMI</td>\n",
       "      <td>9.646857</td>\n",
       "      <td>0.061540</td>\n",
       "      <td>NaN</td>\n",
       "      <td>NaN</td>\n",
       "      <td>1.0</td>\n",
       "      <td>100</td>\n",
       "      <td>2020-01-02 01:42:21.609</td>\n",
       "      <td>2020-01-03 01:01:59.804</td>\n",
       "      <td>4</td>\n",
       "      <td>Shortness of Breath</td>\n",
       "      <td>admitted</td>\n",
       "    </tr>\n",
       "    <tr>\n",
       "      <th>29</th>\n",
       "      <td>178</td>\n",
       "      <td>26</td>\n",
       "      <td>2018-02-02</td>\n",
       "      <td>2018-02-14 20:03:29.280</td>\n",
       "      <td>Expired</td>\n",
       "      <td>Hospitalist</td>\n",
       "      <td>Flu</td>\n",
       "      <td>6.306908</td>\n",
       "      <td>0.620570</td>\n",
       "      <td>NaN</td>\n",
       "      <td>NaN</td>\n",
       "      <td>1.0</td>\n",
       "      <td>26</td>\n",
       "      <td>2020-01-01 06:14:46.240</td>\n",
       "      <td>2020-01-01 15:34:00.868</td>\n",
       "      <td>5</td>\n",
       "      <td>Chest Pain</td>\n",
       "      <td>Admitted</td>\n",
       "    </tr>\n",
       "    <tr>\n",
       "      <th>98</th>\n",
       "      <td>257</td>\n",
       "      <td>93</td>\n",
       "      <td>2018-01-06</td>\n",
       "      <td>2018-01-18 02:59:04.667</td>\n",
       "      <td>Expired</td>\n",
       "      <td>Cardiology</td>\n",
       "      <td>Broken Leg</td>\n",
       "      <td>6.816558</td>\n",
       "      <td>0.628827</td>\n",
       "      <td>NaN</td>\n",
       "      <td>NaN</td>\n",
       "      <td>1.0</td>\n",
       "      <td>184</td>\n",
       "      <td>2020-01-03 02:52:59.647</td>\n",
       "      <td>2020-01-03 11:02:00.183</td>\n",
       "      <td>1</td>\n",
       "      <td>Fever</td>\n",
       "      <td>Discharged</td>\n",
       "    </tr>\n",
       "    <tr>\n",
       "      <th>106</th>\n",
       "      <td>152</td>\n",
       "      <td>101</td>\n",
       "      <td>2018-01-07</td>\n",
       "      <td>2018-01-11 16:16:06.782</td>\n",
       "      <td>Expired</td>\n",
       "      <td>Cardiology</td>\n",
       "      <td>Kidney Failure</td>\n",
       "      <td>6.580273</td>\n",
       "      <td>0.573887</td>\n",
       "      <td>NaN</td>\n",
       "      <td>NaN</td>\n",
       "      <td>1.0</td>\n",
       "      <td>192</td>\n",
       "      <td>2020-01-03 05:06:23.929</td>\n",
       "      <td>2020-01-03 16:27:48.524</td>\n",
       "      <td>2</td>\n",
       "      <td>Migraine</td>\n",
       "      <td>Admitted</td>\n",
       "    </tr>\n",
       "    <tr>\n",
       "      <th>107</th>\n",
       "      <td>361</td>\n",
       "      <td>102</td>\n",
       "      <td>2018-01-07</td>\n",
       "      <td>2018-01-15 04:48:33.134</td>\n",
       "      <td>Expired</td>\n",
       "      <td>Cardiology</td>\n",
       "      <td>Afib</td>\n",
       "      <td>12.794536</td>\n",
       "      <td>0.222163</td>\n",
       "      <td>NaN</td>\n",
       "      <td>NaN</td>\n",
       "      <td>1.0</td>\n",
       "      <td>193</td>\n",
       "      <td>2020-01-03 05:27:19.166</td>\n",
       "      <td>2020-01-04 04:53:48.392</td>\n",
       "      <td>3</td>\n",
       "      <td>Stomach Ache</td>\n",
       "      <td>Admitted</td>\n",
       "    </tr>\n",
       "  </tbody>\n",
       "</table>\n",
       "</div>"
      ],
      "text/plain": [
       "     AdmissionID  PatientID AdmissionDate           DischargeDate  \\\n",
       "7              1          9    2018-01-01 2018-01-07 18:06:06.408   \n",
       "29           178         26    2018-02-02 2018-02-14 20:03:29.280   \n",
       "98           257         93    2018-01-06 2018-01-18 02:59:04.667   \n",
       "106          152        101    2018-01-07 2018-01-11 16:16:06.782   \n",
       "107          361        102    2018-01-07 2018-01-15 04:48:33.134   \n",
       "\n",
       "    DischargeDisposition      Service PrimaryDiagnosis  ExpectedLOS  \\\n",
       "7                Expired   Cardiology              AMI     9.646857   \n",
       "29               Expired  Hospitalist              Flu     6.306908   \n",
       "98               Expired   Cardiology       Broken Leg     6.816558   \n",
       "106              Expired   Cardiology   Kidney Failure     6.580273   \n",
       "107              Expired   Cardiology             Afib    12.794536   \n",
       "\n",
       "     ExpectedMortality  ReadmissionFlag  DaysToReadmission  \\\n",
       "7             0.061540              NaN                NaN   \n",
       "29            0.620570              NaN                NaN   \n",
       "98            0.628827              NaN                NaN   \n",
       "106           0.573887              NaN                NaN   \n",
       "107           0.222163              NaN                NaN   \n",
       "\n",
       "     EDVisitAfterDischargeFlag  EDVisitID               VisitDate  \\\n",
       "7                          1.0        100 2020-01-02 01:42:21.609   \n",
       "29                         1.0         26 2020-01-01 06:14:46.240   \n",
       "98                         1.0        184 2020-01-03 02:52:59.647   \n",
       "106                        1.0        192 2020-01-03 05:06:23.929   \n",
       "107                        1.0        193 2020-01-03 05:27:19.166   \n",
       "\n",
       "            EDDischargeTime  Acuity       ReasonForVisit EDDisposition  \n",
       "7   2020-01-03 01:01:59.804       4  Shortness of Breath      admitted  \n",
       "29  2020-01-01 15:34:00.868       5           Chest Pain      Admitted  \n",
       "98  2020-01-03 11:02:00.183       1                Fever    Discharged  \n",
       "106 2020-01-03 16:27:48.524       2             Migraine      Admitted  \n",
       "107 2020-01-04 04:53:48.392       3         Stomach Ache      Admitted  "
      ]
     },
     "execution_count": 29,
     "metadata": {},
     "output_type": "execute_result"
    }
   ],
   "source": [
    "new_df=df_inner[df_inner.DischargeDisposition=='Expired']\n",
    "new_df.head()"
   ]
  },
  {
   "cell_type": "code",
   "execution_count": 30,
   "id": "522ef404",
   "metadata": {},
   "outputs": [],
   "source": [
    "#getting the count of patientid by Grouping the data based on Reason of visit and discharge disposition."
   ]
  },
  {
   "cell_type": "code",
   "execution_count": 31,
   "id": "335fd2d8",
   "metadata": {},
   "outputs": [
    {
     "name": "stdout",
     "output_type": "stream",
     "text": [
      "  ReasonForVisit DischargeDisposition  Count_of_patients\n",
      "4          Fever              Expired                 22\n"
     ]
    }
   ],
   "source": [
    "max_mortality=new_df.groupby(['ReasonForVisit','DischargeDisposition'])['PatientID'].count().reset_index()\n",
    "end_result=max_mortality.rename(columns={'PatientID':'Count_of_patients'})\n",
    "print(end_result[end_result.Count_of_patients == end_result.Count_of_patients.max()])"
   ]
  },
  {
   "cell_type": "markdown",
   "id": "1df99fb0",
   "metadata": {},
   "source": [
    "# 22.Display the average LOS based on Service and Discharge Disposition(Maintain the column Hierarchy).\n"
   ]
  },
  {
   "cell_type": "code",
   "execution_count": null,
   "id": "d896d937",
   "metadata": {},
   "outputs": [],
   "source": []
  },
  {
   "cell_type": "markdown",
   "id": "4278fe11",
   "metadata": {},
   "source": [
    "# 23.Add column 'Age' in Patient table.\n"
   ]
  },
  {
   "cell_type": "code",
   "execution_count": 33,
   "id": "89470d76",
   "metadata": {},
   "outputs": [],
   "source": [
    "#data frame\n",
    "patients=df['Patients']"
   ]
  },
  {
   "cell_type": "code",
   "execution_count": 34,
   "id": "cde4cd8f",
   "metadata": {},
   "outputs": [
    {
     "name": "stderr",
     "output_type": "stream",
     "text": [
      "/Users/shub/opt/anaconda3/lib/python3.9/site-packages/pandas/core/arrays/datetimes.py:2224: FutureWarning: The parsing of 'now' in pd.to_datetime without `utc=True` is deprecated. In a future version, this will match Timestamp('now') and Timestamp.now()\n",
      "  result, tz_parsed = tslib.array_to_datetime(\n"
     ]
    }
   ],
   "source": [
    "#define now parameter\n",
    "now = pd.to_datetime('now')"
   ]
  },
  {
   "cell_type": "code",
   "execution_count": 35,
   "id": "7be8b5f5",
   "metadata": {},
   "outputs": [
    {
     "data": {
      "text/html": [
       "<div>\n",
       "<style scoped>\n",
       "    .dataframe tbody tr th:only-of-type {\n",
       "        vertical-align: middle;\n",
       "    }\n",
       "\n",
       "    .dataframe tbody tr th {\n",
       "        vertical-align: top;\n",
       "    }\n",
       "\n",
       "    .dataframe thead th {\n",
       "        text-align: right;\n",
       "    }\n",
       "</style>\n",
       "<table border=\"1\" class=\"dataframe\">\n",
       "  <thead>\n",
       "    <tr style=\"text-align: right;\">\n",
       "      <th></th>\n",
       "      <th>PatientID</th>\n",
       "      <th>FirstName</th>\n",
       "      <th>LastName</th>\n",
       "      <th>DateOfBirth</th>\n",
       "      <th>Gender</th>\n",
       "      <th>Race</th>\n",
       "      <th>Language</th>\n",
       "      <th>Age</th>\n",
       "    </tr>\n",
       "  </thead>\n",
       "  <tbody>\n",
       "    <tr>\n",
       "      <th>0</th>\n",
       "      <td>1</td>\n",
       "      <td>Lanni</td>\n",
       "      <td>Sue</td>\n",
       "      <td>1960-01-01 00:00:00.000</td>\n",
       "      <td>Male</td>\n",
       "      <td>White</td>\n",
       "      <td>English</td>\n",
       "      <td>63.0</td>\n",
       "    </tr>\n",
       "    <tr>\n",
       "      <th>1</th>\n",
       "      <td>2</td>\n",
       "      <td>Far</td>\n",
       "      <td>Myers</td>\n",
       "      <td>1985-11-15 02:08:42.090</td>\n",
       "      <td>Male</td>\n",
       "      <td>White</td>\n",
       "      <td>English</td>\n",
       "      <td>37.0</td>\n",
       "    </tr>\n",
       "    <tr>\n",
       "      <th>2</th>\n",
       "      <td>3</td>\n",
       "      <td>Devlin</td>\n",
       "      <td>Michael</td>\n",
       "      <td>1976-04-15 02:52:09.762</td>\n",
       "      <td>Male</td>\n",
       "      <td>White</td>\n",
       "      <td>English</td>\n",
       "      <td>46.0</td>\n",
       "    </tr>\n",
       "    <tr>\n",
       "      <th>3</th>\n",
       "      <td>4</td>\n",
       "      <td>Carmine</td>\n",
       "      <td>Texas</td>\n",
       "      <td>1968-10-15 03:32:13.635</td>\n",
       "      <td>Male</td>\n",
       "      <td>White</td>\n",
       "      <td>English</td>\n",
       "      <td>54.0</td>\n",
       "    </tr>\n",
       "    <tr>\n",
       "      <th>4</th>\n",
       "      <td>5</td>\n",
       "      <td>Tann</td>\n",
       "      <td>Bama</td>\n",
       "      <td>1962-05-01 19:12:58.950</td>\n",
       "      <td>Male</td>\n",
       "      <td>White</td>\n",
       "      <td>English</td>\n",
       "      <td>60.0</td>\n",
       "    </tr>\n",
       "  </tbody>\n",
       "</table>\n",
       "</div>"
      ],
      "text/plain": [
       "   PatientID FirstName LastName             DateOfBirth Gender   Race  \\\n",
       "0          1     Lanni      Sue 1960-01-01 00:00:00.000   Male  White   \n",
       "1          2       Far    Myers 1985-11-15 02:08:42.090   Male  White   \n",
       "2          3   Devlin   Michael 1976-04-15 02:52:09.762   Male  White   \n",
       "3          4   Carmine    Texas 1968-10-15 03:32:13.635   Male  White   \n",
       "4          5     Tann      Bama 1962-05-01 19:12:58.950   Male  White   \n",
       "\n",
       "  Language   Age  \n",
       "0  English  63.0  \n",
       "1  English  37.0  \n",
       "2  English  46.0  \n",
       "3  English  54.0  \n",
       "4  English  60.0  "
      ]
     },
     "execution_count": 35,
     "metadata": {},
     "output_type": "execute_result"
    }
   ],
   "source": [
    "#calculate Age\n",
    "patients['Age']=(now - patients['DateOfBirth']).astype('<m8[Y]') \n",
    "patients.head()"
   ]
  },
  {
   "cell_type": "markdown",
   "id": "ff9c4c74",
   "metadata": {},
   "source": [
    "# 24.Using arrays and loops, find the count of patients based on gender.\n"
   ]
  },
  {
   "cell_type": "code",
   "execution_count": 37,
   "id": "16fb07fe",
   "metadata": {},
   "outputs": [],
   "source": [
    "#dataframe\n",
    "patients=df['Patients']\n",
    "readmission_reg=df['ReAdmissionRegistry']"
   ]
  },
  {
   "cell_type": "code",
   "execution_count": 38,
   "id": "5316d0b2",
   "metadata": {},
   "outputs": [],
   "source": [
    "#copy the contents of patientid and gender to another dataframe.\n",
    "discharge_date=readmission_reg[['DischargeDate']].copy()\n",
    "pantient_df=patients[['PatientID','Gender']].copy()"
   ]
  },
  {
   "cell_type": "code",
   "execution_count": 39,
   "id": "ae3ef403",
   "metadata": {},
   "outputs": [],
   "source": [
    "#create an array for each column patientID & Gender.\n",
    "array_patientID=pantient_df['PatientID'].to_numpy()\n",
    "array_gender=pantient_df['Gender'].to_numpy()"
   ]
  },
  {
   "cell_type": "code",
   "execution_count": 40,
   "id": "ace2a017",
   "metadata": {},
   "outputs": [],
   "source": [
    "#creating a dictionary with the above 2 arrays.\n",
    "patient_dict=dict(zip(array_patientID,array_gender))"
   ]
  },
  {
   "cell_type": "code",
   "execution_count": 44,
   "id": "3cf28c49",
   "metadata": {},
   "outputs": [
    {
     "name": "stdout",
     "output_type": "stream",
     "text": [
      "Male count- 537, Female count- 408\n"
     ]
    }
   ],
   "source": [
    "#Function to calculating the count of male & female using arrays & loops.\n",
    "countMale=0\n",
    "countFemale=0\n",
    "for x in patient_dict:\n",
    "    if patient_dict[x]=='Male':\n",
    "        countMale+= 1\n",
    "    else:\n",
    "        countFemale+=1\n",
    "print(f\"Male count- {countMale}, Female count- {countFemale}\")"
   ]
  },
  {
   "cell_type": "markdown",
   "id": "17cac99e",
   "metadata": {},
   "source": [
    "# 25.Create bins to segregate Patients with 'Mild Hypertension', 'Moderate',  'High Hypertension' ,'Severe Hypertension'. Create a new column to show your analysis."
   ]
  },
  {
   "cell_type": "code",
   "execution_count": null,
   "id": "e8d02383",
   "metadata": {},
   "outputs": [],
   "source": []
  },
  {
   "cell_type": "markdown",
   "id": "4c3f4554",
   "metadata": {},
   "source": [
    "# 26.Plot a graph to show the distribution of expected mortality."
   ]
  },
  {
   "cell_type": "code",
   "execution_count": 4,
   "id": "646e9b1a",
   "metadata": {},
   "outputs": [
    {
     "data": {
      "text/plain": [
       "<seaborn.axisgrid.FacetGrid at 0x7fd752905fd0>"
      ]
     },
     "execution_count": 4,
     "metadata": {},
     "output_type": "execute_result"
    },
    {
     "data": {
      "image/png": "[encoded data removed]",
      "text/plain": [
       "<Figure size 500x500 with 1 Axes>"
      ]
     },
     "metadata": {},
     "output_type": "display_data"
    }
   ],
   "source": [
    "df = pd.read_excel('HospitalDatabase.xlsx','Discharges')\n",
    "sns.displot(data=df, x=\"ExpectedMortality\")"
   ]
  },
  {
   "cell_type": "markdown",
   "id": "0c9251e0",
   "metadata": {},
   "source": [
    "# 27.Which departmentID has maximum number of visits scheduled.\n"
   ]
  },
  {
   "cell_type": "code",
   "execution_count": 9,
   "id": "dd1569dd",
   "metadata": {
    "scrolled": true
   },
   "outputs": [],
   "source": [
    "av = pd.read_excel('HospitalDatabase.xlsx','AmbulatoryVisits')"
   ]
  },
  {
   "cell_type": "code",
   "execution_count": 10,
   "id": "0f792710",
   "metadata": {},
   "outputs": [
    {
     "name": "stdout",
     "output_type": "stream",
     "text": [
      "VisitDepartmentID\n",
      "1      51\n",
      "2      51\n",
      "3      51\n",
      "4      51\n",
      "5      92\n",
      "6      92\n",
      "7      93\n",
      "8      93\n",
      "9      79\n",
      "10    100\n",
      "11    102\n",
      "12     95\n",
      "Name: VisitID, dtype: int64\n"
     ]
    }
   ],
   "source": [
    "print(av.groupby('VisitDepartmentID')['VisitID'].count())\n"
   ]
  },
  {
   "cell_type": "code",
   "execution_count": 28,
   "id": "27165426",
   "metadata": {},
   "outputs": [
    {
     "name": "stdout",
     "output_type": "stream",
     "text": [
      "DepartmentID with maximum number of visits scheduled:-  102\n",
      "The departmentID with maximum number of visits scheduled:- 11\n"
     ]
    }
   ],
   "source": [
    "print(\"DepartmentID with maximum number of visits scheduled:- \",(av.groupby('VisitDepartmentID')['VisitID'].count().max()))\n",
    "print (\"The departmentID with maximum number of visits scheduled:- \" +str(av.loc[av['VisitDepartmentID'].max(),'VisitDepartmentID']))\n"
   ]
  },
  {
   "cell_type": "markdown",
   "id": "fe35249d",
   "metadata": {},
   "source": [
    "# 28.Find the visit type with maximum 'No Show'."
   ]
  },
  {
   "cell_type": "code",
   "execution_count": null,
   "id": "f888908e",
   "metadata": {},
   "outputs": [],
   "source": []
  },
  {
   "cell_type": "markdown",
   "id": "3132fbcb",
   "metadata": {},
   "source": [
    "# 29.Which demographic patients are prone to get stroke?"
   ]
  },
  {
   "cell_type": "code",
   "execution_count": 36,
   "id": "29e442a2",
   "metadata": {},
   "outputs": [
    {
     "data": {
      "text/plain": [
       "'White'"
      ]
     },
     "execution_count": 36,
     "metadata": {},
     "output_type": "execute_result"
    }
   ],
   "source": [
    "hospital_data = 'HospitalDatabase.xlsx'\n",
    "Patients = pd.read_excel(hospital_data,sheet_name='Patients')\n",
    "Discharges = pd.read_excel(hospital_data,sheet_name='Discharges')\n",
    "merged = Patients.merge(Discharges, left_on='PatientID', right_on='PatientID')\n",
    "df = merged.loc[(merged['PrimaryDiagnosis'] == \"Stroke\")]\n",
    "df['Race'].max()"
   ]
  },
  {
   "cell_type": "markdown",
   "id": "969daf35",
   "metadata": {},
   "source": [
    "# 30.Using loc,get the details of the providers where providerid is between 11 and 20 and providerSpecialty is Surgery."
   ]
  },
  {
   "cell_type": "code",
   "execution_count": 38,
   "id": "f818ef7b",
   "metadata": {},
   "outputs": [],
   "source": [
    "#read hospital dataset - Providers\n",
    "hospital_data=pd.read_excel('HospitalDatabase.xlsx','Providers')"
   ]
  },
  {
   "cell_type": "code",
   "execution_count": 39,
   "id": "f2409f9f",
   "metadata": {},
   "outputs": [
    {
     "data": {
      "text/html": [
       "<div>\n",
       "<style scoped>\n",
       "    .dataframe tbody tr th:only-of-type {\n",
       "        vertical-align: middle;\n",
       "    }\n",
       "\n",
       "    .dataframe tbody tr th {\n",
       "        vertical-align: top;\n",
       "    }\n",
       "\n",
       "    .dataframe thead th {\n",
       "        text-align: right;\n",
       "    }\n",
       "</style>\n",
       "<table border=\"1\" class=\"dataframe\">\n",
       "  <thead>\n",
       "    <tr style=\"text-align: right;\">\n",
       "      <th></th>\n",
       "      <th>ProviderID</th>\n",
       "      <th>ProviderName</th>\n",
       "      <th>ProviderSpecialty</th>\n",
       "      <th>ProviderDateOnStaff</th>\n",
       "    </tr>\n",
       "  </thead>\n",
       "  <tbody>\n",
       "    <tr>\n",
       "      <th>10</th>\n",
       "      <td>11</td>\n",
       "      <td>Kim Kimberly</td>\n",
       "      <td>Surgery</td>\n",
       "      <td>1998-05-10 14:47:29.468</td>\n",
       "    </tr>\n",
       "    <tr>\n",
       "      <th>11</th>\n",
       "      <td>12</td>\n",
       "      <td>Sarah Ab</td>\n",
       "      <td>Surgery</td>\n",
       "      <td>1998-08-18 05:22:40.762</td>\n",
       "    </tr>\n",
       "    <tr>\n",
       "      <th>12</th>\n",
       "      <td>13</td>\n",
       "      <td>Abigail Marriot</td>\n",
       "      <td>Surgery</td>\n",
       "      <td>1998-11-08 12:25:45.705</td>\n",
       "    </tr>\n",
       "    <tr>\n",
       "      <th>13</th>\n",
       "      <td>14</td>\n",
       "      <td>Dave Yu</td>\n",
       "      <td>Surgery</td>\n",
       "      <td>1999-06-26 16:18:57.436</td>\n",
       "    </tr>\n",
       "    <tr>\n",
       "      <th>14</th>\n",
       "      <td>15</td>\n",
       "      <td>Christian Saint</td>\n",
       "      <td>Surgery</td>\n",
       "      <td>2000-08-27 00:12:40.326</td>\n",
       "    </tr>\n",
       "    <tr>\n",
       "      <th>15</th>\n",
       "      <td>16</td>\n",
       "      <td>Perry Pardon</td>\n",
       "      <td>Surgery</td>\n",
       "      <td>2001-02-13 11:49:17.862</td>\n",
       "    </tr>\n",
       "  </tbody>\n",
       "</table>\n",
       "</div>"
      ],
      "text/plain": [
       "    ProviderID     ProviderName ProviderSpecialty     ProviderDateOnStaff\n",
       "10          11     Kim Kimberly           Surgery 1998-05-10 14:47:29.468\n",
       "11          12         Sarah Ab           Surgery 1998-08-18 05:22:40.762\n",
       "12          13  Abigail Marriot           Surgery 1998-11-08 12:25:45.705\n",
       "13          14          Dave Yu           Surgery 1999-06-26 16:18:57.436\n",
       "14          15  Christian Saint           Surgery 2000-08-27 00:12:40.326\n",
       "15          16     Perry Pardon           Surgery 2001-02-13 11:49:17.862"
      ]
     },
     "execution_count": 39,
     "metadata": {},
     "output_type": "execute_result"
    }
   ],
   "source": [
    "hospital_data[hospital_data.ProviderSpecialty == 'Surgery'].loc[10:19]"
   ]
  },
  {
   "cell_type": "markdown",
   "id": "140d534f",
   "metadata": {},
   "source": [
    "# 31.If patient's gender is Female, add Ms.to the name and for male patients add Mr. to the name."
   ]
  },
  {
   "cell_type": "code",
   "execution_count": 40,
   "id": "3b8b6c4d",
   "metadata": {},
   "outputs": [
    {
     "name": "stdout",
     "output_type": "stream",
     "text": [
      "0         Mr. Lanni\n",
      "1           Mr. Far\n",
      "2       Mr. Devlin \n",
      "3       Mr. Carmine\n",
      "4         Mr. Tann \n",
      "           ...     \n",
      "940         Mr. Wat\n",
      "941      Mr. Wandie\n",
      "942     Mr. Diahann\n",
      "943    Mr. Panchito\n",
      "944       Mr. Walsh\n",
      "Name: FirstName, Length: 537, dtype: object\n",
      "25        Ms. Sally\n",
      "26         Ms. Mike\n",
      "27       Ms. Jordan\n",
      "28          Ms. Ted\n",
      "29          Ms. Ala\n",
      "           ...     \n",
      "914    Ms. Jerrilyn\n",
      "915      Ms. Kaylil\n",
      "916      Ms. Velvet\n",
      "917        Ms. Kiri\n",
      "918    Ms. Champlin\n",
      "Name: FirstName, Length: 408, dtype: object\n"
     ]
    }
   ],
   "source": [
    "df = 'HospitalDatabase.xlsx'\n",
    "Patients_df = pd.read_excel(df,sheet_name='Patients')\n",
    "\n",
    "# condition\n",
    "male = (Patients_df['Gender'] == 'Male')\n",
    "female = (Patients_df['Gender'] == 'Female')\n",
    "\n",
    "#add string\n",
    "Patients_df.loc[male, 'FirstName'] = 'Mr. ' + Patients_df['FirstName'].astype(str)\n",
    "Patients_df.loc[female, 'FirstName'] = 'Ms. ' + Patients_df['FirstName'].astype(str)\n",
    "\n",
    "print(Patients_df.loc[male, 'FirstName'])\n",
    "print(Patients_df.loc[female, 'FirstName'])\n"
   ]
  },
  {
   "cell_type": "code",
   "execution_count": null,
   "id": "ba8c8365",
   "metadata": {},
   "outputs": [],
   "source": []
  },
  {
   "cell_type": "code",
   "execution_count": null,
   "id": "aa54a94d",
   "metadata": {},
   "outputs": [],
   "source": []
  },
  {
   "cell_type": "code",
   "execution_count": null,
   "id": "f44a6714",
   "metadata": {},
   "outputs": [],
   "source": []
  },
  {
   "cell_type": "code",
   "execution_count": null,
   "id": "8fb6e470",
   "metadata": {},
   "outputs": [],
   "source": []
  }
 ],
 "metadata": {
  "kernelspec": {
   "display_name": "Python 3 (ipykernel)",
   "language": "python",
   "name": "python3"
  },
  "language_info": {
   "codemirror_mode": {
    "name": "ipython",
    "version": 3
   },
   "file_extension": ".py",
   "mimetype": "text/x-python",
   "name": "python",
   "nbconvert_exporter": "python",
   "pygments_lexer": "ipython3",
   "version": "3.9.13"
  }
 },
 "nbformat": 4,
 "nbformat_minor": 5
}
